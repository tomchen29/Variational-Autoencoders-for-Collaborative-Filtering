{
  "nbformat": 4,
  "nbformat_minor": 0,
  "metadata": {
    "colab": {
      "name": " Variational Autoencoder for Collaborative Filtering : The Trade-off between Generation and Prediction.ipynb",
      "version": "0.3.2",
      "provenance": [],
      "collapsed_sections": [
        "tlLN2bdTXho9",
        "GQUYPsi5Reeq"
      ]
    },
    "kernelspec": {
      "name": "python2",
      "display_name": "Python 2"
    }
  },
  "cells": [
    {
      "metadata": {
        "id": "y7rAHhaBpW0q",
        "colab_type": "text"
      },
      "cell_type": "markdown",
      "source": [
        "# Variational Autoencoder for Collaborative Filtering: \n",
        "# The Trade-off between Generation and Prediction"
      ]
    },
    {
      "metadata": {
        "id": "d7fFE60ABaLO",
        "colab_type": "code",
        "colab": {}
      },
      "cell_type": "code",
      "source": [
        ""
      ],
      "execution_count": 0,
      "outputs": []
    },
    {
      "metadata": {
        "id": "Jn7YmQW2pvjQ",
        "colab_type": "text"
      },
      "cell_type": "markdown",
      "source": [
        "<b><font color='grey' size=3> GROUP MEMBER: \n",
        "* Section 1 - Tonghong Chen(tc2894)\n",
        "* Section 2 - Siyi Sun(ss5339), Liangliang Huang(lh2863), Yang Yang(yy2819) \n"
      ]
    },
    {
      "metadata": {
        "id": "TKlKKewDqzN0",
        "colab_type": "text"
      },
      "cell_type": "markdown",
      "source": [
        "# Content"
      ]
    },
    {
      "metadata": {
        "id": "XQXvgw9_q1_1",
        "colab_type": "text"
      },
      "cell_type": "markdown",
      "source": [
        "INTRODUCTION\n",
        "  * Background and Motivation\n",
        "  * Project Goal\n",
        "  * Quick Summary\n",
        "\n",
        "PART I: VAE for recommendation systems\n",
        "\n",
        "- Data Re-Engineering\n",
        "  * Dataset Overview\n",
        "  * Challenge\n",
        "  * Solution\n",
        "  * Full Data Engineering Process\n",
        "\n",
        "- Models\n",
        "  * Training Trick\n",
        "  * Predictive VAE\n",
        "  * Inferential VAE\n",
        "\n",
        "- Metrics and Measurement\n",
        " * Recall\n",
        " * Normalized Truncated Discounted Cumulative Gain (NDCG)\n",
        " \n",
        "- Model Implementation\n",
        "  * Shared Hyperparameters\n",
        "  * Regularized VAE Instance\n",
        "  * Inferential VAE Instance\n",
        "  * Training and Validation Execution\n",
        "\n",
        "- Prediction and Model Evaluation\n",
        "  * Performance Summary\n",
        "\n",
        "PART II: Statistical Inference on VAE's Latent Variable \n",
        "  * Clustering Using 200 Laten Variables \n",
        "  * Check Normality of Laten Variables\n",
        "  * Low Dimensions Representation\n",
        "\n",
        "CONCLUSION\n",
        "\n",
        "REFERENCE"
      ]
    },
    {
      "metadata": {
        "id": "ZUzTAIiytgJZ",
        "colab_type": "text"
      },
      "cell_type": "markdown",
      "source": [
        "## Required Package"
      ]
    },
    {
      "metadata": {
        "id": "XQUiHEPHtjMT",
        "colab_type": "code",
        "colab": {}
      },
      "cell_type": "code",
      "source": [
        "!pip install bottleneck\n",
        "! wget https://bin.equinox.io/c/4VmDzA7iaHb/ngrok-stable-linux-amd64.zip\n",
        "! unzip ngrok-stable-linux-amd64.zip\n",
        "\n",
        "import os\n",
        "import shutil\n",
        "import sys\n",
        "\n",
        "import numpy as np\n",
        "from scipy import sparse\n",
        "\n",
        "import matplotlib.pyplot as plt\n",
        "%matplotlib inline\n",
        "\n",
        "import seaborn as sn\n",
        "sn.set()\n",
        "\n",
        "import pandas as pd\n",
        "\n",
        "import tensorflow as tf\n",
        "from tensorflow.contrib.layers import apply_regularization, l2_regularizer\n",
        "\n",
        "import bottleneck as bn"
      ],
      "execution_count": 0,
      "outputs": []
    },
    {
      "metadata": {
        "id": "uX4d6Csyrgce",
        "colab_type": "text"
      },
      "cell_type": "markdown",
      "source": [
        "# Introduction\n",
        "\n"
      ]
    },
    {
      "metadata": {
        "id": "pmNRLGvNruKD",
        "colab_type": "text"
      },
      "cell_type": "markdown",
      "source": [
        "## 1.1 Background and Motivation"
      ]
    },
    {
      "metadata": {
        "id": "Y0o7cobEoQLO",
        "colab_type": "text"
      },
      "cell_type": "markdown",
      "source": [
        "Variational autoencoder (VAE) is a recent advancement in machine learning. It combines the traditional autoencoder with the mathematical theory of variational inference, making the model highly explicable and tunable. \n",
        "\n",
        "Traditionally, VAE is used as a generator to solve music and image problem, as one of its earliest application is to generate music scores. However, thanks to the advantages like weak assumptions and parallel training, VAE has been widely explored nowadays for different business cases, such as generating similar trees in a video game, or performing dimension reduction in a machine learning problem.\n",
        "\n",
        "\n",
        "Excited with the potential of VAE, our project specifically focuses on the VAE-based predictive models for recommendation system, which was just brought up recently by a Netflix Reserch's paper but hasn't raise much discussion yet [1]. According to the paper, VAE-based predictive models could outshine the traditional linear-based collaborative filtering models in movie recommendation, for its capacity of dealing non-linear relationship between the user-product matrix and latent variables. \n",
        "\n",
        "The Netflix paper, however, takes an arguably inappropriate data preprocessing process and thus fails to justify its prediction result. Instead of ordering the user's rating history strictly by time and using only the  \"past history\" to predict the \"most recent history\", the paper randomly shuffles the user's rating history and blindly predict the hold-out. A major concern of this approach is that it tries to use the future to \"predict\" the past history. For example, if we know a user just watched \"Iron Man II\" and need to \"predict\" what movies he/she watched before, it's almost 100% safe to blindly guess that the user would give a high rate on \"Iron Man I\". On the other hand, if we only know a user has watched \"Iron Man I\" and need to predict what movies he/she will watch in the future, blindly guess \"Iron Man II\" will convincingly return a poorer result. In fact, this phenomenon does appear in our repeated experiment. We re-train the model exactly in the same way as did by the paper. The only change is that when testing the performance, we predict the responses of last few movies in time order, instead of shuffling test.\n",
        "And the performance of the model decreases significantly.\n",
        "\n",
        "So far, the Netflix Research's paper, which is arguably inconvincible due to the flaw stated in the previous paragraph, is still the only paper we can find online that discusses the possibility of VAE's applcation on recommendation system. This provides us great motivation to testify whether the VAE model for recommendation system is truly useful. "
      ]
    },
    {
      "metadata": {
        "id": "OshJeXGGr4_l",
        "colab_type": "text"
      },
      "cell_type": "markdown",
      "source": [
        "## 1.2 Project Goal"
      ]
    },
    {
      "metadata": {
        "id": "LjRiRRhjnDNf",
        "colab_type": "text"
      },
      "cell_type": "markdown",
      "source": [
        "WIth the motivation stated above in mind, we generalize the following two main goals for this project:\n",
        "\n",
        "(1) Study the performance of VAE-based models for recommendation systems by:\n",
        "  \n",
        "  * Fix the misleading data processing procedure in the Netflix Research's paper and reproduce the whole work;\n",
        "  \n",
        "  * Introduce our own Predictive VAE model as a better choice for the collaborative filtering problem;\n",
        "  \n",
        "  * Introduce the Inferential VAE model as a supplement to the 3-layer Regularized VAE model stated in the Netflix Research's paper;\n",
        "\n",
        "  * Compare VAE-based models' performance with the classic benchmark of recommendation problem, the Weighted Matrix Factorization Model (WMF). \n",
        "\n",
        "(2) Perform statistical inference on the latent variables, and visualize the findings with inituive explanations. "
      ]
    },
    {
      "metadata": {
        "id": "_XB1KW1F_bu6",
        "colab_type": "text"
      },
      "cell_type": "markdown",
      "source": [
        "## 1.3 Quick Summary\n",
        "\n",
        "* The Netflix' s simple single-layer VAE model do outshine the classic state-of-art WMF in regards to two metrics, therefore it is a useful model for recommendation system\n",
        "\n",
        "* Our Predictive VAE model performs better than the Netflix' s model in real prediction task\n",
        "\n",
        "* The trade-off between generation and prediction make the extended VAE model a powerful tool for collaborative filtering. \n",
        "\n",
        "\n",
        "* The latent variables of VAE could serve as a nice and interesting way to do dimension reduction and visualize user clustering under low dimensions. \n",
        "\n"
      ]
    },
    {
      "metadata": {
        "id": "vZj2MFKUMgiV",
        "colab_type": "text"
      },
      "cell_type": "markdown",
      "source": [
        "# PART I: VAE for recommendation systems"
      ]
    },
    {
      "metadata": {
        "id": "pMECXboXbX7V",
        "colab_type": "text"
      },
      "cell_type": "markdown",
      "source": [
        "According to the Netflix Research's paper, a creative and effective way to transform VAE from a generative model to a predictive model is to treat the KL-Divergence part in the loss function as a \"regularization term\", and applies a parameter β selected by annealing process to control the strength of regularization.\n",
        "\n",
        "$$\n",
        "L_β (x_u ; θ, ϕ) ≡ E_{q_ϕ}(z_u |x_u)[log_{pθ}(x_u |z_u)]−β · KL(q_φ(z_u |x_u)∥p(z_u))\n",
        "$$\n",
        "\n",
        "The reason behind this β is that, while the original VAE is a powerful generative model; we might not need all the statistical properties of a generative model for tackling problems in recommendation systems. In particular, if we are willing to sacrifice the ability to perform ancestral sampling, and introduce a regularization view of the Evidence Lower Bound (ELBO), we can actually achieve a trade-off between how well we can fit the data and how close the approximate posterior stays to the prior during learning.\n",
        "\n",
        "For predictive use-case,  the β is usually set to be < 1. This means we not only are no longer optimizing a lower bound on the log marginal likelihood, but also weaken the influence of the prior constraint, making the model less able to generate novel user histories by ancestral sampling. But ultimately, our goal is to make good recommendations, not to maximize likelihood or generate imagined user histories. Treating β as a free regularization parameter therefore costs us nothing, and, as we will see, yields significant improvements in performance.\n",
        "\n",
        "To answer how to select the optimal β, a simple anneal heuristic process is purposed by the Netflix Research's paper: \"we start training with β = 0, and gradually increase β to 1. We linearly anneal the KL term slowly over a large number of gradient updates to θ, ϕ and record the best β when its performance reaches the peak. This method works well and it does not require the need for training multiple models with different values of β, which can be time-consuming.\" \n",
        "\n",
        "After several rounds of tuning, we concluded that the key methodologies purposed in the Netflix Research's paper, the regularization view of ELBO and the anneal process to select the optimal β, did contribute significantly to improve the prediction accuracy. Therefore, we adopted this regularization view and tunning technique in all the models we built.\n",
        "\n",
        "However, as we explained in the \"Background and Motivation\" section, the Netflix Research's paper has a significant flaw in its data processing procedure, which makes its result less convincible. Therefore, the frist step we take is to correct this flaw and produce the right dataset for train, validation, and test. \n",
        "\n",
        "Then, we conetinue to produce our own models, which we named as \"Predictive VAE\" and \"Inferential VAE\".\n"
      ]
    },
    {
      "metadata": {
        "id": "_Bsg660jvmfp",
        "colab_type": "text"
      },
      "cell_type": "markdown",
      "source": [
        "## 2. Data Re-Engineering"
      ]
    },
    {
      "metadata": {
        "id": "VJyQAIPqvpjA",
        "colab_type": "text"
      },
      "cell_type": "markdown",
      "source": [
        "### 2.1 Dataset Overview"
      ]
    },
    {
      "metadata": {
        "id": "GLJdsemcqi9I",
        "colab_type": "text"
      },
      "cell_type": "markdown",
      "source": [
        "\n",
        "\n",
        "The dataset we use in this project is \"MovieLens 20M\", which is a stable benchmark dataset containing 20 million ratings and 465,000 tag applications applied to 27,000 movies by 138,000 users. The dataset contains four columns: “userId”, “movieId”, “rating” and “timestamp”. The dataset can be downloaded at http://files.grouplens.org/datasets/movielens/ml-20m.zip\n"
      ]
    },
    {
      "metadata": {
        "id": "oRVe2SAct0c6",
        "colab_type": "code",
        "colab": {}
      },
      "cell_type": "code",
      "source": [
        "!wget http://files.grouplens.org/datasets/movielens/ml-20m.zip\n",
        "!unzip ml-20m.zip"
      ],
      "execution_count": 0,
      "outputs": []
    },
    {
      "metadata": {
        "id": "QDQck-DYuA44",
        "colab_type": "code",
        "colab": {}
      },
      "cell_type": "code",
      "source": [
        "### change `DATA_DIR` to the location where movielens-20m dataset sits\n",
        "DATA_DIR = 'ml-20m/'"
      ],
      "execution_count": 0,
      "outputs": []
    },
    {
      "metadata": {
        "id": "wdCgPpYDuHW0",
        "colab_type": "code",
        "colab": {}
      },
      "cell_type": "code",
      "source": [
        "raw_data = pd.read_csv(os.path.join(DATA_DIR, 'ratings.csv'), header=0)"
      ],
      "execution_count": 0,
      "outputs": []
    },
    {
      "metadata": {
        "id": "Xc0ou8HydR11",
        "colab_type": "text"
      },
      "cell_type": "markdown",
      "source": [
        "### 2.2 Past-Future Split for Performance Evaluation (Test)"
      ]
    },
    {
      "metadata": {
        "id": "bKnARo0LsLdB",
        "colab_type": "text"
      },
      "cell_type": "markdown",
      "source": [
        "#### 2.2.1 Challenge"
      ]
    },
    {
      "metadata": {
        "id": "nQvN2USrcoxN",
        "colab_type": "text"
      },
      "cell_type": "markdown",
      "source": [
        "Recall that in the Netflix Research Paper, instead of ordering the user's rating history strictly by time and using only the \"past history\" to predict the \"most recent history\", it randomly shuffles the user's rating history and blindly predict the hold-out. Below it's the code:"
      ]
    },
    {
      "metadata": {
        "id": "s3N38iboeg1e",
        "colab_type": "code",
        "colab": {}
      },
      "cell_type": "code",
      "source": [
        "def split_train_test_proportion(data, test_prop=0.2):\n",
        "    data_grouped_by_user = data.groupby('userId')\n",
        "    tr_list, te_list = list(), list()\n",
        "\n",
        "    np.random.seed(98765)\n",
        "\n",
        "    for i, (_, group) in enumerate(data_grouped_by_user):\n",
        "        n_items_u = len(group)\n",
        "\n",
        "        if n_items_u >= 5:\n",
        "            idx = np.zeros(n_items_u, dtype='bool')\n",
        "            idx[np.random.choice(n_items_u, size=int(test_prop * n_items_u), replace=False).astype('int64')] = True\n",
        "\n",
        "            tr_list.append(group[np.logical_not(idx)])\n",
        "            te_list.append(group[idx])\n",
        "        else:\n",
        "            tr_list.append(group)\n",
        "\n",
        "        if i % 1000 == 0:\n",
        "            print(\"%d users sampled\" % i)\n",
        "            sys.stdout.flush()\n",
        "\n",
        "    data_tr = pd.concat(tr_list)\n",
        "    data_te = pd.concat(te_list)\n",
        "    \n",
        "    return data_tr, data_te"
      ],
      "execution_count": 0,
      "outputs": []
    },
    {
      "metadata": {
        "id": "qELtOqmVetPf",
        "colab_type": "text"
      },
      "cell_type": "markdown",
      "source": [
        "A major concern of this approach is that it tries to use the future to \"predict\" the past history. For example, if we know a user just watched \"Iron Man II\" and need to \"predict\" what movies he/she watched before, it's almost 100% safe to blindly guess that the user has watched \"Iron Man I\". On the other hand, if we only know a user has watched \"Iron Man I\" and need to predict what movies he/she will watch in the future, blindly guess \"Iron Man II\" will convincingly return a poor result.\n"
      ]
    },
    {
      "metadata": {
        "id": "bF6M0zEIfnhM",
        "colab_type": "text"
      },
      "cell_type": "markdown",
      "source": [
        "#### 2.2.2 Solution"
      ]
    },
    {
      "metadata": {
        "id": "UnxcbQ4Tf42W",
        "colab_type": "text"
      },
      "cell_type": "markdown",
      "source": [
        "We rewrite the fcuntion split_train_test_proportion(), force it to order the user's rating history strictly by time, and using only the \"past history\", in another word, the first 1-X% of data, to predict the \"most recent history\", in another word, the last X% of data."
      ]
    },
    {
      "metadata": {
        "id": "GIcUQg5Uf86l",
        "colab_type": "code",
        "colab": {}
      },
      "cell_type": "code",
      "source": [
        "def split_train_test_proportion(data, test_prop=0.2):\n",
        "  '''\n",
        "  @Function DESC: \n",
        "    * further split the validation or test data into \"fold-in\" set and \"hold-out(prediction)\" set \n",
        "    * the hold-out set considers time effect and will be the most recent records\n",
        "  '''\n",
        "  \n",
        "  data_grouped_by_user = data.groupby('userId')\n",
        "  tr_list, te_list = list(), list()\n",
        "\n",
        "  np.random.seed(98765)\n",
        "\n",
        "  for i, (_, group) in enumerate(data_grouped_by_user):\n",
        "      group = group.sort_values(['timestamp'],ascending=True)\n",
        "      n_items_u = len(group)\n",
        "\n",
        "      idx = np.zeros(n_items_u, dtype='bool') # for example, array([False, False, False])\n",
        "      idx[-int(test_prop * n_items_u):] = True\n",
        "\n",
        "      tr_list.append(group[np.logical_not(idx)])\n",
        "      te_list.append(group[idx])\n",
        "\n",
        "#       if i % 1000 == 0:\n",
        "#           print(\"%d users sampled\" % i)\n",
        "#           sys.stdout.flush()\n",
        "\n",
        "  data_tr = pd.concat(tr_list)  # tr_list is a list of dataframes by different userid\n",
        "  data_te = pd.concat(te_list)\n",
        "\n",
        "  return data_tr, data_te"
      ],
      "execution_count": 0,
      "outputs": []
    },
    {
      "metadata": {
        "id": "l6NIsSa3tuVQ",
        "colab_type": "text"
      },
      "cell_type": "markdown",
      "source": [
        "### 2.3 Past-Future Split for Training Data"
      ]
    },
    {
      "metadata": {
        "id": "3CZwNjJft5Jx",
        "colab_type": "text"
      },
      "cell_type": "markdown",
      "source": [
        "\n",
        "After we correct the flaw of data splitting for prediction metrics, the generic regularized VAE perform much worse.  As **6.1 Performance Sumary** show, its NDCG drops from 42% to 23%.  \n",
        "\n",
        "So we try to involve a training trick, which is then proved to perform better than the generic one. The NDCG increases to 25.6% after applying the training trick.  \n",
        "\n",
        "The **Training Trick** would be introduced in following **3. Predictive Models**.  \n",
        "Following is the data preprocess added for training trick, creating $Past\\ 80\\%\\ Train\\ Data$, which only contains earliest 80% of the train users' positive records.\n",
        "\n"
      ]
    },
    {
      "metadata": {
        "id": "0ZnFJ7c8uQZu",
        "colab_type": "code",
        "colab": {}
      },
      "cell_type": "code",
      "source": [
        "## add train_plays_tr\n",
        "## the train_plays didn't change, which is still the full record of train_users.\n",
        "train_plays_tr, _ = split_train_test_proportion(train_plays) # Changed for train trick (added)"
      ],
      "execution_count": 0,
      "outputs": []
    },
    {
      "metadata": {
        "id": "Iq6IE3e9vw6a",
        "colab_type": "text"
      },
      "cell_type": "markdown",
      "source": [
        "### 2.4 Full Data Engineering Process"
      ]
    },
    {
      "metadata": {
        "id": "OE3gQuwHgseu",
        "colab_type": "text"
      },
      "cell_type": "markdown",
      "source": [
        "This part introduce the the data preprocessing code of our project and the logic behind it"
      ]
    },
    {
      "metadata": {
        "id": "MT-zf6WFhvs2",
        "colab_type": "text"
      },
      "cell_type": "markdown",
      "source": [
        "#### 2.4.1 HIgh-Quality Movies and Users"
      ]
    },
    {
      "metadata": {
        "id": "fH1rQkrhuMHx",
        "colab_type": "text"
      },
      "cell_type": "markdown",
      "source": [
        "Since the recommendation system aims to match great movies with valuable customers who are willing to give high ratings, the dataset used in our project was filtered by only keeping movies with at least one rating greater than 3.5 and by keeping users with at least five movie-rating records. "
      ]
    },
    {
      "metadata": {
        "id": "JWjnN84LuWuc",
        "colab_type": "code",
        "colab": {}
      },
      "cell_type": "code",
      "source": [
        "def get_count(tp, id):\n",
        "    '''\n",
        "    count the number of triplets by id\n",
        "    \n",
        "    @param dataframe tp: the raw_data dataframe\n",
        "    @parm int id: either movieId or userId\n",
        "    '''\n",
        "    return tp[id].value_counts()"
      ],
      "execution_count": 0,
      "outputs": []
    },
    {
      "metadata": {
        "id": "-TwSpsHHuXSb",
        "colab_type": "code",
        "colab": {}
      },
      "cell_type": "code",
      "source": [
        "def filter_triplets(tp, min_uc=5, min_sc=0):\n",
        "    # Only keep the triplets for movies which were clicked on by at least min_sc users. \n",
        "\n",
        "    if min_sc > 0:\n",
        "        moviecount = get_count(tp, 'movieId')\n",
        "        tp = tp[tp['movieId'].isin(moviecount.index[moviecount >= min_sc])]\n",
        "    \n",
        "    # Only keep the triplets for users who clicked on at least min_uc movies\n",
        "    # After doing this, some of the movies will have less than min_uc users, but should only be a small proportion\n",
        "    if min_uc > 0:\n",
        "        usercount = get_count(tp, 'userId')\n",
        "        tp = tp[tp['userId'].isin(usercount.index[usercount >= min_uc])]\n",
        "    \n",
        "    # Update both usercount and moviecount after filtering\n",
        "    usercount, moviecount = get_count(tp, 'userId'), get_count(tp, 'movieId') \n",
        "    return tp, usercount, moviecount"
      ],
      "execution_count": 0,
      "outputs": []
    },
    {
      "metadata": {
        "id": "IOsGJk50uOkN",
        "colab_type": "code",
        "colab": {}
      },
      "cell_type": "code",
      "source": [
        "# first, only keep the movies with at least one rating greater than 3.5\n",
        "raw_data = raw_data[raw_data['rating'] > 3.5]\n",
        "# second, only keep the users with at least 5 movie-rating records \n",
        "raw_data, user_activity, item_popularity = filter_triplets(raw_data, min_uc=5, min_sc=0)"
      ],
      "execution_count": 0,
      "outputs": []
    },
    {
      "metadata": {
        "id": "G-T6MOZhvTMk",
        "colab_type": "text"
      },
      "cell_type": "markdown",
      "source": [
        "We could check out the sparsity after this flitering process:"
      ]
    },
    {
      "metadata": {
        "id": "lxpp80mDvRBL",
        "colab_type": "code",
        "outputId": "f8d4f09a-edd9-49d4-e5aa-7b226270f521",
        "colab": {
          "base_uri": "https://localhost:8080/",
          "height": 35
        }
      },
      "cell_type": "code",
      "source": [
        "sparsity = 1. * raw_data.shape[0] / (user_activity.shape[0] * item_popularity.shape[0])\n",
        "\n",
        "print(\"After filtering, there are %d watching events from %d users and %d movies (sparsity: %.3f%%)\" % \n",
        "      (raw_data.shape[0], user_activity.shape[0], item_popularity.shape[0], sparsity * 100))"
      ],
      "execution_count": 0,
      "outputs": [
        {
          "output_type": "stream",
          "text": [
            "After filtering, there are 9990682 watching events from 136677 users and 20720 movies (sparsity: 0.353%)\n"
          ],
          "name": "stdout"
        }
      ]
    },
    {
      "metadata": {
        "id": "6khUTXb1v8Nl",
        "colab_type": "text"
      },
      "cell_type": "markdown",
      "source": [
        "#### 2.4.2 User-Rating Sparse Matrix"
      ]
    },
    {
      "metadata": {
        "id": "Khuyf212twnd",
        "colab_type": "text"
      },
      "cell_type": "markdown",
      "source": [
        "After filtering, we construct a binary click matrix in which each row represents a user’s click history and each column a distinct movie. If user(u) has rated movie(i), then we assign entry (u,i) to be 1, regardless the rating. Otherwise, we assign entry (u, i) to be 0. Splitting the binary click matrix, we obtain the train, validation, and test data set. The train data contain 80% of users and their full click history, while the validation and test data each contains the rest of 10%. \n",
        "\n",
        "\n",
        "We further split validation and test data into subsets. Before splitting, movies that didn’t exist in the train set are removed because our model is unable to predict a movie without any rating information. \n",
        "\n",
        "We splitting the data in two ways for later comparison. The first way, according to Liang [1], in splitting, we randomly keep 80% of their records as in-fold(train) data and 20% as held-out for users with greater than or equal to 5 ratings in both validation and test data set, and we assign the users with less than 5 ratings directly to the in-fold data. In the second way, we split the data according to the timestamp instead of random selection. Before splitting, we arrange data by timestamp, then pick the first 80% as in-fold data and the rest as held-out. We will use the fold-in data from the validation and test data set to learn user-level representations and build the metrics using the held-out data to evaluate the model performance. Processing data in this way, we obtain user-by-item matrices. "
      ]
    },
    {
      "metadata": {
        "id": "zMhgI-NOtWsx",
        "colab_type": "code",
        "colab": {}
      },
      "cell_type": "code",
      "source": [
        "np.random.seed(98765)\n",
        "\n",
        "unique_uid = user_activity.index # [1,2,3,..., 138493] | length=136677\n",
        "unique_uid = unique_uid[np.random.permutation(unique_uid.size)] # randomly shuffle the user index\n",
        "# unique_uid is like [105696,  11200, 112758, ... , 136723] | length=136677"
      ],
      "execution_count": 0,
      "outputs": []
    },
    {
      "metadata": {
        "id": "eezPTSZjwFI8",
        "colab_type": "code",
        "colab": {}
      },
      "cell_type": "code",
      "source": [
        "n_users = unique_uid.size\n",
        "n_heldout_users = 10000\n",
        "\n",
        "tr_users_index = unique_uid[:(n_users - n_heldout_users * 2)]\n",
        "vd_users_index = unique_uid[(n_users - n_heldout_users * 2): (n_users - n_heldout_users)]\n",
        "te_users_inex = unique_uid[(n_users - n_heldout_users):]"
      ],
      "execution_count": 0,
      "outputs": []
    },
    {
      "metadata": {
        "id": "qZPLS04p1qlN",
        "colab_type": "text"
      },
      "cell_type": "markdown",
      "source": [
        "#### 2.4.3 Split the train, valiation and test dataset"
      ]
    },
    {
      "metadata": {
        "id": "sMsTwbGPwMdk",
        "colab_type": "text"
      },
      "cell_type": "markdown",
      "source": [
        "##### 2.4.3.1 produce the train dataset"
      ]
    },
    {
      "metadata": {
        "id": "WqfPkdANwGWO",
        "colab_type": "code",
        "colab": {}
      },
      "cell_type": "code",
      "source": [
        "train_plays = raw_data.loc[raw_data['userId'].isin(tr_users_index)]"
      ],
      "execution_count": 0,
      "outputs": []
    },
    {
      "metadata": {
        "id": "v3YzJMgRwQY7",
        "colab_type": "text"
      },
      "cell_type": "markdown",
      "source": [
        "##### 2.4.3.2 get and save the unique movieId in train dataset to disk"
      ]
    },
    {
      "metadata": {
        "id": "xob9KjOpwaoi",
        "colab_type": "code",
        "colab": {}
      },
      "cell_type": "code",
      "source": [
        "# select the unique movieId appearing in train data\n",
        "unique_sid = np.unique(train_plays['movieId']) "
      ],
      "execution_count": 0,
      "outputs": []
    },
    {
      "metadata": {
        "id": "YyD8_Y0CwcS5",
        "colab_type": "code",
        "colab": {}
      },
      "cell_type": "code",
      "source": [
        "# save the list of unique movieId to disk\n",
        "pro_dir = os.path.join(DATA_DIR, 'pro_sg')\n",
        "if not os.path.exists(pro_dir):\n",
        "    os.makedirs(pro_dir)\n",
        "with open(os.path.join(pro_dir, 'unique_sid.txt'), 'w') as f:\n",
        "    for sid in unique_sid:\n",
        "        f.write('%s\\n' % sid)"
      ],
      "execution_count": 0,
      "outputs": []
    },
    {
      "metadata": {
        "id": "HwAiX036wgOE",
        "colab_type": "text"
      },
      "cell_type": "markdown",
      "source": [
        "##### 2.4.3.3 produce the validation and test dataset"
      ]
    },
    {
      "metadata": {
        "id": "Lwr_JQ0dxm-f",
        "colab_type": "code",
        "colab": {}
      },
      "cell_type": "code",
      "source": [
        "# make sure the all movieIds in validation set have appeared in the train dataset\n",
        "vad_plays = raw_data.loc[raw_data['userId'].isin(vd_users_index)]\n",
        "vad_plays = vad_plays.loc[vad_plays['movieId'].isin(unique_sid)]  \n",
        "vad_plays_tr, vad_plays_te = split_train_test_proportion(vad_plays)"
      ],
      "execution_count": 0,
      "outputs": []
    },
    {
      "metadata": {
        "id": "s8ewr25Bxnt1",
        "colab_type": "code",
        "colab": {}
      },
      "cell_type": "code",
      "source": [
        "# make sure the all movieIds in test set have appeared in the train dataset\n",
        "test_plays = raw_data.loc[raw_data['userId'].isin(te_users_inex)]\n",
        "test_plays = test_plays.loc[test_plays['movieId'].isin(unique_sid)]\n",
        "test_plays_tr, test_plays_te = split_train_test_proportion(test_plays)"
      ],
      "execution_count": 0,
      "outputs": []
    },
    {
      "metadata": {
        "id": "Ih8plYPhxrXL",
        "colab_type": "text"
      },
      "cell_type": "markdown",
      "source": [
        "by now, we have produced the following dataframes:\n",
        "- train_plays\n",
        "- vad_plays_tr, vad_plays_te\n",
        "- test_plays_tr, test_plays_te"
      ]
    },
    {
      "metadata": {
        "id": "PcI9y_Ypx3_z",
        "colab_type": "text"
      },
      "cell_type": "markdown",
      "source": [
        "##### 2.4.3.4 Save the data into (user_index, item_index) format"
      ]
    },
    {
      "metadata": {
        "id": "sW7Ia8unx59C",
        "colab_type": "code",
        "colab": {}
      },
      "cell_type": "code",
      "source": [
        "profile2id = dict((pid, i) for (i, pid) in enumerate(unique_uid)) \n",
        "show2id = dict((sid, i) for (i, sid) in enumerate(unique_sid)) \n",
        "                             \n",
        "def numerize(tp):\n",
        "  uid = list(map(lambda x: profile2id[x], tp['userId']))  # map the tp['userId'] to its corresponding shuffled index\n",
        "  sid = list(map(lambda x: show2id[x], tp['movieId'])) # map the tp['movieId'] to its corresponding shuffled index\n",
        "   # map tp to the corresponding shuffled uid and sid\n",
        "  return pd.DataFrame(data={'uid': uid, 'sid': sid}, columns=['uid', 'sid'])"
      ],
      "execution_count": 0,
      "outputs": []
    },
    {
      "metadata": {
        "id": "ikDGgbE-x7a5",
        "colab_type": "code",
        "colab": {}
      },
      "cell_type": "code",
      "source": [
        "train_data = numerize(train_plays)\n",
        "train_data.to_csv(os.path.join(pro_dir, 'train.csv'), index=False)"
      ],
      "execution_count": 0,
      "outputs": []
    },
    {
      "metadata": {
        "id": "O_Mo5k4x9AJ2",
        "colab_type": "code",
        "colab": {}
      },
      "cell_type": "code",
      "source": [
        "# Changed for train trick (added)\n",
        "train_data_tr = numerize(train_plays_tr)\n",
        "train_data_tr.to_csv(os.path.join(pro_dir, 'train_tr.csv'), index=False)"
      ],
      "execution_count": 0,
      "outputs": []
    },
    {
      "metadata": {
        "id": "RnYLB0ztx7yL",
        "colab_type": "code",
        "colab": {}
      },
      "cell_type": "code",
      "source": [
        "vad_data_tr = numerize(vad_plays_tr)\n",
        "vad_data_tr.to_csv(os.path.join(pro_dir, 'validation_tr.csv'), index=False)"
      ],
      "execution_count": 0,
      "outputs": []
    },
    {
      "metadata": {
        "id": "OZWb48Cyx81k",
        "colab_type": "code",
        "colab": {}
      },
      "cell_type": "code",
      "source": [
        "vad_data_te = numerize(vad_plays_te)\n",
        "vad_data_te.to_csv(os.path.join(pro_dir, 'validation_te.csv'), index=False)"
      ],
      "execution_count": 0,
      "outputs": []
    },
    {
      "metadata": {
        "id": "RUfgf8Pdx-KY",
        "colab_type": "code",
        "colab": {}
      },
      "cell_type": "code",
      "source": [
        "test_data_tr = numerize(test_plays_tr)\n",
        "test_data_tr.to_csv(os.path.join(pro_dir, 'test_tr.csv'), index=False)"
      ],
      "execution_count": 0,
      "outputs": []
    },
    {
      "metadata": {
        "id": "UUdajb7qx_3M",
        "colab_type": "code",
        "colab": {}
      },
      "cell_type": "code",
      "source": [
        "test_data_te = numerize(test_plays_te)\n",
        "test_data_te.to_csv(os.path.join(pro_dir, 'test_te.csv'), index=False)"
      ],
      "execution_count": 0,
      "outputs": []
    },
    {
      "metadata": {
        "id": "uks9Y9Wi18fq",
        "colab_type": "text"
      },
      "cell_type": "markdown",
      "source": [
        "#### 2.4.4 construct the user-rating sparse mMatrix for training, valiation and test"
      ]
    },
    {
      "metadata": {
        "id": "fi4R52Iu2LlX",
        "colab_type": "code",
        "colab": {}
      },
      "cell_type": "code",
      "source": [
        "def load_train_data(csv_file):\n",
        "  tp = pd.read_csv(csv_file)\n",
        "  n_users = tp['uid'].max() + 1\n",
        "\n",
        "  rows, cols = tp['uid'], tp['sid']\n",
        "  data = sparse.csr_matrix((np.ones_like(rows),\n",
        "                           (rows, cols)), dtype='float64',\n",
        "                           shape=(n_users, n_items))\n",
        "  return data"
      ],
      "execution_count": 0,
      "outputs": []
    },
    {
      "metadata": {
        "id": "kMmsYEzk2MMB",
        "colab_type": "code",
        "colab": {}
      },
      "cell_type": "code",
      "source": [
        "def load_tr_te_data(csv_file_tr, csv_file_te):\n",
        "  tp_tr = pd.read_csv(csv_file_tr)\n",
        "  tp_te = pd.read_csv(csv_file_te)\n",
        "\n",
        "  start_idx = min(tp_tr['uid'].min(), tp_te['uid'].min())\n",
        "  end_idx = max(tp_tr['uid'].max(), tp_te['uid'].max())\n",
        "\n",
        "  rows_tr, cols_tr = tp_tr['uid'] - start_idx, tp_tr['sid']\n",
        "  rows_te, cols_te = tp_te['uid'] - start_idx, tp_te['sid']\n",
        "\n",
        "  data_tr = sparse.csr_matrix((np.ones_like(rows_tr),\n",
        "                           (rows_tr, cols_tr)), dtype='float64', shape=(end_idx - start_idx + 1, n_items))\n",
        "  data_te = sparse.csr_matrix((np.ones_like(rows_te),\n",
        "                           (rows_te, cols_te)), dtype='float64', shape=(end_idx - start_idx + 1, n_items))\n",
        "  return data_tr, data_te"
      ],
      "execution_count": 0,
      "outputs": []
    },
    {
      "metadata": {
        "id": "-mklM_Z52FSD",
        "colab_type": "code",
        "colab": {}
      },
      "cell_type": "code",
      "source": [
        "DATA_DIR = 'ml-20m/'\n",
        "pro_dir = os.path.join(DATA_DIR, 'pro_sg')\n",
        "unique_sid = list()\n",
        "with open(os.path.join(pro_dir, 'unique_sid.txt'), 'r') as f:\n",
        "    for line in f:\n",
        "        unique_sid.append(line.strip())\n",
        "\n",
        "n_items = len(unique_sid)"
      ],
      "execution_count": 0,
      "outputs": []
    },
    {
      "metadata": {
        "id": "lkAixHfV2JXt",
        "colab_type": "code",
        "colab": {}
      },
      "cell_type": "code",
      "source": [
        "train_data = load_train_data(os.path.join(pro_dir, 'train.csv'))"
      ],
      "execution_count": 0,
      "outputs": []
    },
    {
      "metadata": {
        "id": "gr-HNpWF8ZIH",
        "colab_type": "code",
        "colab": {}
      },
      "cell_type": "code",
      "source": [
        "# Changed for train trick (added)\n",
        "train_data_tr = load_train_data(os.path.join(pro_dir, 'train_tr.csv'))"
      ],
      "execution_count": 0,
      "outputs": []
    },
    {
      "metadata": {
        "id": "A9_OegTz2RVD",
        "colab_type": "code",
        "colab": {}
      },
      "cell_type": "code",
      "source": [
        "vad_data_tr, vad_data_te = load_tr_te_data(os.path.join(pro_dir, 'validation_tr.csv'),\n",
        "                                           os.path.join(pro_dir, 'validation_te.csv'))"
      ],
      "execution_count": 0,
      "outputs": []
    },
    {
      "metadata": {
        "id": "Pi4A7qGJ3-EA",
        "colab_type": "code",
        "colab": {}
      },
      "cell_type": "code",
      "source": [
        "test_data_tr, test_data_te = load_tr_te_data(os.path.join(pro_dir, 'test_tr.csv'),\n",
        "                                             os.path.join(pro_dir, 'test_te.csv'))"
      ],
      "execution_count": 0,
      "outputs": []
    },
    {
      "metadata": {
        "id": "XLD7Glkr4Lw9",
        "colab_type": "text"
      },
      "cell_type": "markdown",
      "source": [
        "by now, we have produced the user-rating matrix for train, validation and test:\n",
        "- train_data\n",
        "- vad_data_tr, vad_data_te\n",
        "- test_data_tr, test_data_te"
      ]
    },
    {
      "metadata": {
        "id": "EtBV48ySNKV5",
        "colab_type": "text"
      },
      "cell_type": "markdown",
      "source": [
        "## 3. Predictive Models"
      ]
    },
    {
      "metadata": {
        "id": "EkpL9xED7EJ5",
        "colab_type": "text"
      },
      "cell_type": "markdown",
      "source": [
        "After fixing the data preprocessing problem, we conetinue to produce our own models, which we named as \"Predictive VAE\" and \"Inferential VAE\"."
      ]
    },
    {
      "metadata": {
        "id": "_RcgWXzS7HAE",
        "colab_type": "text"
      },
      "cell_type": "markdown",
      "source": [
        "### 3.1 Training Trick"
      ]
    },
    {
      "metadata": {
        "id": "U9hVUVR8PpRs",
        "colab_type": "text"
      },
      "cell_type": "markdown",
      "source": [
        "\n",
        "The annealing VAE structure can be conclude as \n",
        "$$Input \\rightarrow Z \\rightarrow Output\\\\\n",
        "Minimize(|Output-Label|+\\beta \\cdot KL)$$\n",
        ",where the$|Output-Label|$ is the cross-entropy loss between Output & Label. \n",
        "For the generic VAE $Input=Label$, which focus on generate(recover) the original data from sparse encoding $Z$.  \n",
        "The Netflix paper's generic Model just treats $Input=Label=Train\\ Data$\n",
        "\n",
        "However, in Recommending System,  we should reconsider the problem on generate(recover) and predition. Just as we mention before, we want to use the past watching history to recommend user some movies they may want to watch & like in the future. Thus, the model need to have a \"predictive\" ability rather than just recovering/generative ability.  \n",
        "\n",
        "To enhance the VAE's \"predictive\" ability, we apply a small training trick, which treats: \n",
        "$$Input=Past\\ 80\\%\\ Train\\ Data\\\\\n",
        "(Unchanged)Label=Train\\ Data(all\\ data)$$\n",
        "The data re-engineer part is included in **2.3 Past-Future Split for Training Data**\n"
      ]
    },
    {
      "metadata": {
        "id": "Sw8jdtviPWgf",
        "colab_type": "text"
      },
      "cell_type": "markdown",
      "source": [
        "### 3.2 Predictive VAE"
      ]
    },
    {
      "metadata": {
        "id": "-cDp_YU-ioxB",
        "colab_type": "text"
      },
      "cell_type": "markdown",
      "source": [
        "#### 3.2.1 Model Overview\n",
        "\n",
        "The first model we build is a partially-regularized variational autoencoder with multinomial likelihood. The variational autoencoder contains a deep latent Gaussian model. The deep latent Gaussian model assumes that the observed data were generated by sampling latent variables from a standard Gaussian prior. \n",
        "\n",
        "In this model, we use $u$ and $i$ to represent the index of user and item respectively. Let $u$ be a local observed variable and $z$ its corresponding local latent variable. We start by sampling $z_u$ with K dimension from a standard Gaussian prior for each user. We set the dimension of the latent representation K to 200 and any hidden layer to 600, because this is the best set of values we found through tests and trials. \n",
        "\n",
        "The below graph shows how our model looks like:\n",
        "![alt text](https://github.com/jokerkeny/VAE/blob/master/fig/vae_ppt.jpg?raw=true =800x400)\n",
        "\n",
        "\n",
        "$z_u$ is related to each user $u$ by being transformed to $π(z_u)$, a probability distribution over $I$ items, via a non-linear function, a multilayer perceptron with parameters $θ$, $f_θ(·)$. That is, one user’s click history $x_u$ can be drawn from a multinomial distribution given the total number of clicks $N_u=\\sum_i x_{ui}$ with probability $π(z_u)$. \n",
        "\n",
        "\n",
        "$$\n",
        "\\mathbf{z}_u \\sim \\mathcal{N}(0, \\mathbf{I}_K),  \\pi(\\mathbf{z}_u) \\propto \\exp\\{f_\\theta (\\mathbf{z}_u)\\},\\\\\n",
        "\\mathbf{x}_u \\sim \\mathrm{Mult}(N_u, \\pi(\\mathbf{z}_u))\n",
        "$$\n",
        "\n",
        "We wish to optimize the model parameters θ with respect to the marginal likelihood $p_θ(x)$. Since the posterior distribution is intractable, we use variational inference [4, 5] to approximate $p_θ(z_u | x_u )$ with a simpler variational distribution $q_φ(z_u)$, where $q_φ(z_u)$ is defined as a fully factorized (diagonal) Gaussian distribution: $q_φ(z_u) = N(μ_u,diag(σ_u^2))$ and the local variational parameters $ϕ$ = {$μ_u,σ_u$} . The objective of the variational inference is to optimize the free parameters $ϕ$ by minimizing the Kullback Leiber divergence. Since we have two free parameters for each user, when the number of user becomes extremely large, the free parameters will be hard to compute. Therefore, a data-dependent function $q_φ(x_u)$ is used to replace individual variational parameters and the variational distribution is rewritten as $q_φ(z_u |x_u) = N(μ_φ(x_u),diag(σ_φ^2(x_u))$. \n",
        "\n",
        "Given the inference model, we can approximate the intractable posterior $p_\\theta(z_u| x_u)$ with parameters of the optimized variational distribution $q_φ (z_u | x_u )$ using input $x_u$. In this model, $q_\\phi$ is the encoder and $p_\\theta$ is the decoder. \n",
        "\n",
        "#### 3.2.2 The Evidence Lower Bound (ELBO)\n",
        "We then lower-bound the log marginal likelihood of the data, according to the standard of learning latent-variable models. Below is the objective function, which is commonly known as the evidence lower bound (ELBO):\n",
        "\n",
        "$$\n",
        "logp(x_u;θ)≥E_{qφ}(z_u |x_u)[log_{pθ}(x_u |z_u)]−KL(q_φ(z_u |x_u)∥p(z_u)) ≡ L(x_u;θ,φ)\n",
        "$$\n",
        "\n",
        "Noticing that maximizing ELBO with respect to the model parameter $θ$ approximately maximizes the log marginal likelihood, while maximizing it with respect to the variational parameter $ϕ$ minimizes the KL term. Also, the KL term determines the tightness of the lower bound, where if KL divergence is zero, then $q_ϕ(z|x)=p_θ(z|x)$. Therefore, it can be treated as a regularization term. If we treat the KL term as a regularization term, it is natural to introduce a coefficient $\\beta$ to control the strength of regularization [1]. We used the KL annealing [6] to select the value of $\\beta\\in [0,1]$, adjusting results from Higgins et al [7]. In the training process, we linearly anneal the KL term from $\\beta = 0$ to $\\beta =1$ over $θ , φ$ on a large number of gradient updates (200,000) to find the cap for $\\beta$, because annealing is much more efficient than grid search. Then, we linearly anneal the KL term again from $\\beta = 0$ to $\\beta_{cap}$ to find the VAE parameter $θ , φ$. \n",
        "\n",
        "#### 3.2.3 The Reparametrization Trick\n",
        "We also use a reparametrization trick [2, 3] to deal with the challenge of taking gradients with respect to $φ$ through sampling $z_u ∼ q_φ$ and optimizing it by stochastics gradient ascent to obtain an unbiased estimate of ELBO. The trick is sampling $ε∼N(0,I_K)$ and reparametrize $z_u =μ_φ(x_u)+ε⊙σ_φ(x_u)$.  \n",
        "\n",
        "#### 3.2.4 Layers\n",
        "In our model, we put 3 hidden layers because it outperforms other choices. We use a tanh non-linearity as the activation function between layers. But there is no activation function to the $g_φ (·)$ because we use its output as mean and variance of a Gaussian random variable. the dropout probability at the input layer is 0.5 and there is no weight decay in our model. The model is trained by Adam [8] with batch size of 500 users and 200 epochs. The following section will present our implementation for a Regularized VAE model.\n"
      ]
    },
    {
      "metadata": {
        "id": "tlLN2bdTXho9",
        "colab_type": "text"
      },
      "cell_type": "markdown",
      "source": [
        " #### 3.2.5 Predictive VAE by TensorFlow"
      ]
    },
    {
      "metadata": {
        "id": "0uvJWFbzXegq",
        "colab_type": "code",
        "colab": {}
      },
      "cell_type": "code",
      "source": [
        "class RegularizedVAE(object):\n",
        "    '''\n",
        "    p_dim: dimensions for each layer in encoders(input, layer 1,..., ouput)\n",
        "    q_dim: dimensions for decoders(input, layer 1,..., output)\n",
        "    lam: regularization term for KL Divergence\n",
        "    lr: Learning rate\n",
        "    '''\n",
        "   \n",
        "    \n",
        "    def __init__(self, p_dims, q_dims=None, lam=0.01, lr=1e-3, random_seed=None): # p_dims = [200, 600, n_items=len(unique_sid)]\n",
        "        self.p_dims = p_dims\n",
        "        if q_dims is None: # if doesn't specify q_dims, make it the inverse of p_dims\n",
        "            self.q_dims = p_dims[::-1] # q_dims = [n_items, 600, 200]\n",
        "        else:\n",
        "            assert q_dims[0] == p_dims[-1], \"Input and output dimension must equal each other for autoencoders.\"\n",
        "            assert q_dims[-1] == p_dims[0], \"Latent dimension for p- and q-network must match.\"\n",
        "            self.q_dims = q_dims\n",
        "        self.dims = self.q_dims + self.p_dims[1:] # dims = [n_items, 600, 200, 600, n_items]\n",
        "        \n",
        "        self.lam = lam\n",
        "        self.lr = lr\n",
        "        self.random_seed = random_seed\n",
        "\n",
        "        self.construct_placeholders()\n",
        "    \n",
        "    \n",
        "    def construct_placeholders(self):\n",
        "        self.input_ph = tf.placeholder(\n",
        "            dtype=tf.float32, shape=[None, self.dims[0]],name='Input_variable')\n",
        "        self.label_ph = tf.placeholder(\n",
        "            dtype=tf.float32, shape=[None, self.dims[0]],name='Lable_variable') # Changed for train trick\n",
        "      \n",
        "        #dropout probability\n",
        "        self.keep_prob_ph = tf.placeholder_with_default(1.0, shape=None,name='dropoff_probability')\n",
        "\n",
        "        # placeholders with default values when scoring\n",
        "        self.is_training_ph = tf.placeholder_with_default(0., shape=None, name='placeholder_convertor')\n",
        "        self.anneal_ph = tf.placeholder_with_default(1., shape=None, name='Anneal_KL')\n",
        "       \n",
        "      \n",
        "    def build_graph(self):\n",
        "        # Initialize paramaters values\n",
        "        self._construct_weights()\n",
        "        \n",
        "        saver, logits, KL = self.forward_pass()\n",
        "        log_softmax_var = tf.nn.log_softmax(logits)\n",
        "        \n",
        "        # log_softmax是一个向量吗？这里为什么可以这么算？\n",
        "        neg_ll = -tf.reduce_mean(tf.reduce_sum(\n",
        "            log_softmax_var * self.label_ph, # Changed for train trick (from input_ph to label_ph)\n",
        "            axis=-1))\n",
        "        \n",
        "        # apply regularization to weights\n",
        "        reg = l2_regularizer(self.lam)   \n",
        "        reg_var = apply_regularization(reg, self.weights_q + self.weights_p)\n",
        "        # tensorflow l2 regularization multiply 0.5 to the l2 norm\n",
        "        # multiply 2 so that it is back in the same scale\n",
        "        \n",
        "        # two constrain: 1. anneal term for KL\n",
        "        #                2. L2 norm for all params in encoder and decoder network(reg_var)\n",
        "        neg_ELBO = neg_ll + self.anneal_ph * KL + 2 * reg_var\n",
        "        \n",
        "        train_op = tf.train.AdamOptimizer(self.lr).minimize(neg_ELBO)\n",
        "\n",
        "        # add summary statistics\n",
        "        tf.summary.scalar('negative_multi_ll', neg_ll)\n",
        "        tf.summary.scalar('KL', KL)\n",
        "        tf.summary.scalar('neg_ELBO_train', neg_ELBO)\n",
        "        merged = tf.summary.merge_all()\n",
        "        \n",
        "        return saver, logits, neg_ELBO, train_op, merged\n",
        "    \n",
        "    \n",
        "    def q_graph(self):\n",
        "        '''\n",
        "        encoder network\n",
        "        '''\n",
        "        mu_q, std_q, KL = None, None, None\n",
        "        \n",
        "        h = tf.nn.l2_normalize(self.input_ph, 1)\n",
        "        h = tf.nn.dropout(h, self.keep_prob_ph)\n",
        "        \n",
        "        for i, (w, b) in enumerate(zip(self.weights_q, self.biases_q)):\n",
        "            h = tf.matmul(h, w) + b\n",
        "            \n",
        "            if i != len(self.weights_q) - 1:\n",
        "                # self.weights_q, self.biases_q = [], [] activation function\n",
        "                h = tf.nn.tanh(h)\n",
        "            else:\n",
        "                mu_q = h[:, :self.q_dims[-1]]\n",
        "                logvar_q = h[:, self.q_dims[-1]:]\n",
        "                print(\"the mu_q is: \",mu_q)\n",
        "                print(\"the logvar_q is: \",logvar_q)\n",
        "                std_q = tf.exp(0.5 * logvar_q)\n",
        "                KL = tf.reduce_mean(tf.reduce_sum(0.5 * (-logvar_q + tf.exp(logvar_q) + mu_q**2 - 1), axis=1))\n",
        "        print(\"the shape of mu_q is: \", tf.shape(mu_q))\n",
        "        return mu_q, std_q, KL\n",
        "\n",
        "      \n",
        "    def p_graph(self, z):\n",
        "        h = z\n",
        "        \n",
        "        for i, (w, b) in enumerate(zip(self.weights_p, self.biases_p)):\n",
        "            h = tf.matmul(h, w) + b\n",
        "            \n",
        "            if i != len(self.weights_p) - 1:\n",
        "                h = tf.nn.tanh(h)\n",
        "        return h\n",
        "\n",
        "      \n",
        "    def forward_pass(self):\n",
        "        '''\n",
        "        Compute each parts of loss function: logits and KL Divergence\n",
        "        '''\n",
        "      \n",
        "        # encoder output\n",
        "        mu_q, std_q, KL = self.q_graph()\n",
        "       \n",
        "        # reparametrization trick \n",
        "        epsilon = tf.random_normal(tf.shape(std_q))\n",
        "        sampled_z = mu_q + self.is_training_ph * epsilon * std_q\n",
        "\n",
        "        # p-network\n",
        "        logits = self.p_graph(sampled_z)\n",
        "        \n",
        "        return tf.train.Saver(), logits, KL\n",
        "\n",
        "      \n",
        "    def _construct_weights(self):\n",
        "        self.weights_q, self.biases_q = [], []\n",
        "        \n",
        "        for i, (d_in, d_out) in enumerate(zip(self.q_dims[:-1], self.q_dims[1:])):  # this will return: [0, (10000,600)] , [1, (600, 200)]\n",
        "            \n",
        "            if i == len(self.q_dims[:-1]) - 1:\n",
        "                # last layer\n",
        "                # we need two sets of parameters for mean and variance respectively\n",
        "                d_out *= 2\n",
        "            weight_key = \"weight_q_{}to{}\".format(i, i+1)\n",
        "            bias_key = \"bias_q_{}\".format(i+1)\n",
        "            \n",
        "            self.weights_q.append(tf.get_variable(\n",
        "                name=weight_key, shape=[d_in, d_out],\n",
        "                # Xavier initializer method - uniform for weights params\n",
        "                # One thing to be optimized\n",
        "                initializer=tf.contrib.layers.xavier_initializer(\n",
        "                    seed=self.random_seed)))\n",
        "            \n",
        "            self.biases_q.append(tf.get_variable(\n",
        "                name=bias_key, shape=[d_out],\n",
        "                # Truncated Normal distribution for biases params\n",
        "                initializer=tf.truncated_normal_initializer(\n",
        "                    stddev=0.001, seed=self.random_seed)))\n",
        "            \n",
        "            # add summary stats\n",
        "            tf.summary.histogram(weight_key, self.weights_q[-1])\n",
        "            tf.summary.histogram(bias_key, self.biases_q[-1])\n",
        "            \n",
        "        self.weights_p, self.biases_p = [], []\n",
        "\n",
        "        for i, (d_in, d_out) in enumerate(zip(self.p_dims[:-1], self.p_dims[1:])):\n",
        "            weight_key = \"weight_p_{}to{}\".format(i, i+1)\n",
        "            bias_key = \"bias_p_{}\".format(i+1)\n",
        "            self.weights_p.append(tf.get_variable(\n",
        "                name=weight_key, shape=[d_in, d_out],\n",
        "                initializer=tf.contrib.layers.xavier_initializer(\n",
        "                    seed=self.random_seed)))\n",
        "            \n",
        "            self.biases_p.append(tf.get_variable(\n",
        "                name=bias_key, shape=[d_out],\n",
        "                initializer=tf.truncated_normal_initializer(\n",
        "                    stddev=0.001, seed=self.random_seed)))\n",
        "            \n",
        "            # add summary stats\n",
        "            tf.summary.histogram(weight_key, self.weights_p[-1])\n",
        "            tf.summary.histogram(bias_key, self.biases_p[-1])"
      ],
      "execution_count": 0,
      "outputs": []
    },
    {
      "metadata": {
        "id": "49Nb2_X269In",
        "colab_type": "text"
      },
      "cell_type": "markdown",
      "source": [
        "### 3.3 Inferential VAE"
      ]
    },
    {
      "metadata": {
        "id": "G68PIkj7FA6T",
        "colab_type": "text"
      },
      "cell_type": "markdown",
      "source": [
        "#### 3.3.1 Model Overview\n",
        "\n",
        "The second model we build is a Inferential VAE model purposed in Sønderby's paper.\n",
        "\n",
        "Similar to the Predictive VAE model, The Inferential VAE model is a partially-regularized variational autoencoder with multinomial likelihood, where each latent variable, instead of following an independent standard normal distribution, is auxiliary by a 1st-order Markov Chain. "
      ]
    },
    {
      "metadata": {
        "id": "9TcV_QsRJsKL",
        "colab_type": "text"
      },
      "cell_type": "markdown",
      "source": [
        "The most difference between Inferential VAE and Predictive VAE is that Inferential VAE introduces a hierarchical specification for the latent variables, which allows the lower layers of the latent variables to be highly correlated but still maintain the computational efficiency of fully factorized models. The model as below (from Sønderby's paper[10]):"
      ]
    },
    {
      "metadata": {
        "id": "bdOBUYs4JggU",
        "colab_type": "text"
      },
      "cell_type": "markdown",
      "source": [
        "![alt text](https://github.com/jokerkeny/VAE/blob/master/fig/laddar_vae_formula.png?raw=True =800x500)"
      ]
    },
    {
      "metadata": {
        "id": "_HVmnnAKQCUc",
        "colab_type": "text"
      },
      "cell_type": "markdown",
      "source": [
        "The way to derive the loss function for Inferential VAE is exactly the same as the one in Regualrized VAE. Besides, the reparametrization trick also applies to Inferential VAE."
      ]
    },
    {
      "metadata": {
        "id": "GQUYPsi5Reeq",
        "colab_type": "text"
      },
      "cell_type": "markdown",
      "source": [
        "#### 3.3.2 Layers"
      ]
    },
    {
      "metadata": {
        "id": "wOdz8xwIRsha",
        "colab_type": "text"
      },
      "cell_type": "markdown",
      "source": [
        "After several round of tuning, we use a 2-hidden-fully-connected layer between each \"Di\", and the same structure for decoding \"Z\" to X_predict as well. A graphical visualization can be found below:"
      ]
    },
    {
      "metadata": {
        "id": "VGz0ciKTHjLj",
        "colab_type": "text"
      },
      "cell_type": "markdown",
      "source": [
        "![alt text](https://github.com/jokerkeny/VAE/blob/master/fig/laddar%20vae.png?raw=true)\n"
      ]
    },
    {
      "metadata": {
        "id": "vN_IcCt8TXR3",
        "colab_type": "text"
      },
      "cell_type": "markdown",
      "source": [
        "We use a tanh non-linearity as the activation function between layers. But there is no activation function to the $g_φ (·)$ because we use its output as mean and variance of a Gaussian random variable. the dropout probability at the input layer is 0.5 and there is no weight decay in our model. The model is trained by Adam [8] with batch size of 500 users and 200 epochs.  The following section will present our implementation for the Inferential VAE model."
      ]
    },
    {
      "metadata": {
        "id": "Hbec0J9HXmU7",
        "colab_type": "text"
      },
      "cell_type": "markdown",
      "source": [
        "#### 3.3.3 Inferential VAE by TensorFlow"
      ]
    },
    {
      "metadata": {
        "id": "4Vl_AKtwXrOd",
        "colab_type": "code",
        "colab": {}
      },
      "cell_type": "code",
      "source": [
        "class Inferential_VAE(object):\n",
        "    '''\n",
        "    p_dim: dimensions for each layer in encoders(input, layer 1,..., ouput)\n",
        "    q_dim: dimensions for decoders(input, layer 1,..., output)\n",
        "    lam: regularization term for KL Divergence\n",
        "    lr: Learning rate\n",
        "    '''\n",
        "   \n",
        "    \n",
        "    def __init__(self, p_dims, q_dims=None, lam=0.01, lr=1e-3, random_seed=None): # p_dims = [200, 600, n_items=len(unique_sid)]\n",
        "      self.p_dims = p_dims\n",
        "      if q_dims is None: # if doesn't specify q_dims, make it the inverse of p_dims\n",
        "          self.q_dims = p_dims[::-1] # q_dims = [n_items, 600, 200]\n",
        "      else:\n",
        "          assert q_dims[0] == p_dims[-1], \"Input and output dimension must equal each other for autoencoders.\"\n",
        "          assert q_dims[-1] == p_dims[0], \"Latent dimension for p- and q-network must match.\"\n",
        "          self.q_dims = q_dims\n",
        "      self.dims = self.q_dims + self.p_dims[1:] # dims = [n_items, 600, 200, 600, n_items]\n",
        "\n",
        "      self.lam = lam\n",
        "      self.lr = lr\n",
        "      self.random_seed = random_seed\n",
        "      self._initializer = tf.contrib.layers.xavier_initializer(seed=self.random_seed)\n",
        "\n",
        "      self.construct_placeholders()\n",
        "    \n",
        "    \n",
        "    def construct_placeholders(self):\n",
        "      self.input_ph = tf.placeholder(\n",
        "          dtype=tf.float32, shape=[None, self.dims[0]],name='Input_variable')\n",
        "\n",
        "      #dropout probability\n",
        "      self.keep_prob_ph = tf.placeholder_with_default(1.0, shape=None,name='dropoff_probability')\n",
        "\n",
        "      # placeholders with default values when scoring\n",
        "      self.is_training_ph = tf.placeholder_with_default(0., shape=None, name='placeholder_convertor')\n",
        "      self.anneal_ph = tf.placeholder_with_default(1., shape=None, name='Anneal_KL')\n",
        "       \n",
        "      \n",
        "    def build_graph(self):\n",
        "      \n",
        "      # Initialize paramaters values\n",
        "      self._construct_weights()\n",
        "\n",
        "      saver, logits, KL = self.forward_pass()\n",
        "      log_softmax_var = tf.nn.log_softmax(logits)\n",
        "\n",
        "      neg_ll = -tf.reduce_mean(tf.reduce_sum(\n",
        "          log_softmax_var * self.input_ph,\n",
        "          axis=-1))\n",
        "\n",
        "      # apply regularization to weights\n",
        "      reg = l2_regularizer(self.lam)   \n",
        "      reg_var = apply_regularization(reg, self.weights_q + self.weights_p)\n",
        "      # tensorflow l2 regularization multiply 0.5 to the l2 norm\n",
        "      # multiply 2 so that it is back in the same scale\n",
        "\n",
        "      # two constrain: 1. anneal term for KL\n",
        "      #                2. L2 norm for all params in encoder and decoder network(reg_var)\n",
        "      neg_ELBO = neg_ll + self.anneal_ph * KL + 2 * reg_var\n",
        "\n",
        "      train_op = tf.train.AdamOptimizer(self.lr).minimize(neg_ELBO)\n",
        "\n",
        "      # add summary statistics\n",
        "      tf.summary.scalar('negative_multi_ll', neg_ll)\n",
        "      tf.summary.scalar('KL', KL)\n",
        "      tf.summary.scalar('neg_ELBO_train', neg_ELBO)\n",
        "      merged = tf.summary.merge_all()\n",
        "\n",
        "      return saver, logits, neg_ELBO, train_op, merged\n",
        "    \n",
        "    \n",
        "    '''\n",
        "    @Ladder-style q_graph\n",
        "    '''\n",
        "    def q_graph(self):\n",
        "\n",
        "      mu_q, std_q, KL = None, None, None\n",
        "\n",
        "      h = tf.nn.l2_normalize(self.input_ph, 1)\n",
        "      h = tf.nn.dropout(h, self.keep_prob_ph)\n",
        "      \n",
        "      mu_q = []\n",
        "      logvar_q = []      \n",
        "\n",
        "      for i, (w, b) in enumerate(zip(self.weights_q, self.biases_q)):\n",
        "\n",
        "        h = tf.matmul(h, w) + b\n",
        "        h = tf.nn.tanh(h)\n",
        "        \n",
        "        if (i+1) % (len(self.q_dims) - 1) == 0:  # if it is the \"Di\" layer     \n",
        "                    \n",
        "          # compute mu_q_zi and var_q_zi from Di\n",
        "          mu_q_zi = h   # I simply use the easiest linear function\n",
        "          var_q_zi = tf.math.softplus(h) \n",
        "          logvar_q_zi = tf.math.log(var_q_zi)\n",
        "          \n",
        "          # insert the result into the output array\n",
        "          mu_q.append(mu_q_zi)\n",
        "          logvar_q.append(logvar_q_zi)\n",
        "          \n",
        "          # replace Di with mu_q_zi\n",
        "          h = mu_q_zi\n",
        "      \n",
        "      # output  \n",
        "      mu_q = tf.concat(mu_q, axis=1)\n",
        "      logvar_q = tf.concat(logvar_q, axis=1)\n",
        "      std_q = tf.exp(0.5 * logvar_q)\n",
        "      KL = tf.reduce_mean(tf.reduce_sum(0.5 * (-logvar_q + tf.exp(logvar_q) + mu_q**2 - 1), axis=1))\n",
        "      return mu_q, std_q, KL\n",
        "          \n",
        "\n",
        "      \n",
        "    def p_graph(self, z):\n",
        "      h = z\n",
        "\n",
        "      for i, (w, b) in enumerate(zip(self.weights_p, self.biases_p)):\n",
        "          h = tf.matmul(h, w) + b\n",
        "\n",
        "          if i != len(self.weights_p) - 1:\n",
        "              h = tf.nn.tanh(h)\n",
        "      return h\n",
        "\n",
        "      \n",
        "    def forward_pass(self):\n",
        "      '''\n",
        "      Compute each parts of loss function: logits and KL Divergence\n",
        "      '''\n",
        "\n",
        "      # encoder output\n",
        "      mu_q, std_q, KL = self.q_graph()\n",
        "\n",
        "      # reparametrization trick \n",
        "      epsilon = tf.random_normal(tf.shape(std_q))\n",
        "      sampled_z = mu_q + self.is_training_ph * epsilon * std_q\n",
        "\n",
        "      # p-network\n",
        "      logits = self.p_graph(sampled_z)\n",
        "\n",
        "      return tf.train.Saver(), logits, KL\n",
        "\n",
        "      \n",
        "    def _construct_weights(self):\n",
        "      \n",
        "      '''\n",
        "      @UPDATE: initialize the q as: X -> network -> 1 -> network -> 1 -> ... ->1 -> network\n",
        "      '''\n",
        "      self.weights_q, self.biases_q = [], []\n",
        "\n",
        "      input_size = self.q_dims[0]\n",
        "      latent_size = self.q_dims[-1]\n",
        "      repeated_net_struct = [1] + self.q_dims[1:-1] +[1] # di -> network -> di+1\n",
        "\n",
        "\n",
        "      # from X to d1\n",
        "      for i, (d_in, d_out) in enumerate(zip(self.q_dims[:-1], self.q_dims[1:-1] + [1])):  \n",
        "        # this will return: [0, (10000,600)] , [1, (600, 1)]\n",
        "        weight_key = \"weight_q_{}to{}\".format(i, i+1)\n",
        "        bias_key = \"bias_q_{}\".format(i+1)\n",
        "\n",
        "        self.weights_q.append(tf.get_variable(\n",
        "                name=weight_key, shape=[d_in, d_out],\n",
        "                # Xavier initializer method - uniform for weights params\n",
        "                # One thing to be optimized\n",
        "                initializer=tf.contrib.layers.xavier_initializer(\n",
        "                    seed=self.random_seed)))\n",
        "            \n",
        "        self.biases_q.append(tf.get_variable(\n",
        "                name=bias_key, shape=[d_out],\n",
        "                # Truncated Normal distribution for biases params\n",
        "                initializer=tf.truncated_normal_initializer(\n",
        "                    stddev=0.001, seed=self.random_seed)))\n",
        "\n",
        "      # from d1 to dK\n",
        "      for i, (d_in, d_out) in enumerate(list(zip(repeated_net_struct[:-1], repeated_net_struct[1:])) * (latent_size-1)): \n",
        "        index = i + len(self.q_dims) - 1  # following the \"X to d1\" process\n",
        "\n",
        "        weight_key = \"weight_q_{}to{}\".format(index, index+1)\n",
        "        bias_key = \"bias_q_{}\".format(index+1)\n",
        "\n",
        "        self.weights_q.append(tf.get_variable(\n",
        "                name=weight_key, shape=[d_in, d_out],\n",
        "                # Xavier initializer method - uniform for weights params\n",
        "                # One thing to be optimized\n",
        "                initializer=tf.contrib.layers.xavier_initializer(\n",
        "                    seed=self.random_seed)))\n",
        "            \n",
        "        self.biases_q.append(tf.get_variable(\n",
        "            name=bias_key, shape=[d_out],\n",
        "            # Truncated Normal distribution for biases params\n",
        "            initializer=tf.truncated_normal_initializer(\n",
        "                stddev=0.001, seed=self.random_seed)))\n",
        "\n",
        "\n",
        "      ############################################################\n",
        "\n",
        "      self.weights_p, self.biases_p = [], []\n",
        "\n",
        "      for i, (d_in, d_out) in enumerate(zip(self.p_dims[:-1], self.p_dims[1:])):\n",
        "          weight_key = \"weight_p_{}to{}\".format(i, i+1)\n",
        "          bias_key = \"bias_p_{}\".format(i+1)\n",
        "          self.weights_p.append(tf.get_variable(\n",
        "                name=weight_key, shape=[d_in, d_out],\n",
        "                initializer=tf.contrib.layers.xavier_initializer(\n",
        "                    seed=self.random_seed)))\n",
        "            \n",
        "          self.biases_p.append(tf.get_variable(\n",
        "                name=bias_key, shape=[d_out],\n",
        "                initializer=tf.truncated_normal_initializer(\n",
        "                    stddev=0.001, seed=self.random_seed)))\n",
        "          \n",
        "          # add summary stats\n",
        "          tf.summary.histogram(weight_key, self.weights_p[-1])\n",
        "          tf.summary.histogram(bias_key, self.biases_p[-1])"
      ],
      "execution_count": 0,
      "outputs": []
    },
    {
      "metadata": {
        "id": "sY7RCPGYWp_f",
        "colab_type": "text"
      },
      "cell_type": "markdown",
      "source": [
        "## 4. Metrics and Measurement"
      ]
    },
    {
      "metadata": {
        "id": "MqVRTewOimxE",
        "colab_type": "text"
      },
      "cell_type": "markdown",
      "source": [
        "To measure the performance of our models, we use the same two metrics inherited from the Netlif Research's paper."
      ]
    },
    {
      "metadata": {
        "id": "8RdSZUeUWwL-",
        "colab_type": "text"
      },
      "cell_type": "markdown",
      "source": [
        "### 4.1 Recall Metrics\n",
        "The Recall metrics compare the predicted rank of the hold-out items with their true rank for each user. \n",
        "\n",
        "$R(u, w):= \\frac{\\sum_{r=1}^{R} I(w(r) \\in I_u)}{min(R, I_u)}$\n",
        "\n",
        "\n",
        "R is the rank, standing for items ranked in first R. Recall metrics considers all the items ranked in first R equally important. $w(r)$ is the item at rank r. $I[·]$ is an indicator function and $I_u$ is the set of held-out items that user u clicked on. "
      ]
    },
    {
      "metadata": {
        "id": "EtvKr0rwX6mJ",
        "colab_type": "code",
        "colab": {}
      },
      "cell_type": "code",
      "source": [
        "def Recall_at_k_batch(X_pred, heldout_batch, k=100):\n",
        "    batch_users = X_pred.shape[0]\n",
        "\n",
        "    idx = bn.argpartition(-X_pred, k, axis=1)  # get the index of X_pred, where the first k numbers are the largest k numbers over all\n",
        "    X_pred_binary = np.zeros_like(X_pred, dtype=bool)\n",
        "    X_pred_binary[np.arange(batch_users)[:, np.newaxis], idx[:, :k]] = True  # set the selected k number to be True\n",
        "\n",
        "    X_true_binary = (heldout_batch > 0).toarray()\n",
        "    tmp = (np.logical_and(X_true_binary, X_pred_binary).sum(axis=1)).astype(\n",
        "        np.float32)\n",
        "    recall = tmp / np.minimum(k, X_true_binary.sum(axis=1))\n",
        "    return recall"
      ],
      "execution_count": 0,
      "outputs": []
    },
    {
      "metadata": {
        "id": "fJNSru8mW4JG",
        "colab_type": "text"
      },
      "cell_type": "markdown",
      "source": [
        "### 4.2 Normalized Truncated Discounted Cumulative Gain (NDCG) Metrics\n",
        "NDCG is the DCG linearly normalized to [0, 1] after dividing by the best possible DCG@R, where all the held-out items are ranked at the top. DCG is shown as follows:\n",
        "\n",
        "$R(u,w) := \\sum_{r=1}^{R} \\frac{2^{I(w(r) \\in I_u)} - 1}{log(r+1)}$\n",
        "\n",
        "Different from Recall, NDCG metrics evaluates higher ranks more than lower ranks."
      ]
    },
    {
      "metadata": {
        "id": "lq5RtAI8X86d",
        "colab_type": "code",
        "colab": {}
      },
      "cell_type": "code",
      "source": [
        "def NDCG_binary_at_k_batch(X_pred, heldout_batch, k=100):\n",
        "    '''\n",
        "    normalized discounted cumulative gain@k for binary relevance\n",
        "    ASSUMPTIONS: all the 0's in heldout_data indicate 0 relevance\n",
        "    '''\n",
        "    batch_users = X_pred.shape[0]\n",
        "    idx_topk_part = bn.argpartition(-X_pred, k, axis=1)\n",
        "    topk_part = X_pred[np.arange(batch_users)[:, np.newaxis],\n",
        "                       idx_topk_part[:, :k]]\n",
        "    idx_part = np.argsort(-topk_part, axis=1)\n",
        "    # X_pred[np.arange(batch_users)[:, np.newaxis], idx_topk] is the sorted\n",
        "    # topk predicted score\n",
        "    idx_topk = idx_topk_part[np.arange(batch_users)[:, np.newaxis], idx_part]\n",
        "    # build the discount template\n",
        "    tp = 1. / np.log2(np.arange(2, k + 2))\n",
        "\n",
        "    DCG = (heldout_batch[np.arange(batch_users)[:, np.newaxis],\n",
        "                         idx_topk].toarray() * tp).sum(axis=1)\n",
        "    IDCG = np.array([(tp[:min(n, k)]).sum()\n",
        "                     for n in heldout_batch.getnnz(axis=1)])\n",
        "    return DCG / IDCG"
      ],
      "execution_count": 0,
      "outputs": []
    },
    {
      "metadata": {
        "id": "OljEt6jLaR3a",
        "colab_type": "text"
      },
      "cell_type": "markdown",
      "source": [
        "## 5. Model Implementation"
      ]
    },
    {
      "metadata": {
        "id": "9vwIFliLnopK",
        "colab_type": "text"
      },
      "cell_type": "markdown",
      "source": [
        "in this module, we presents the implementation with optimal hyperparameters of our models."
      ]
    },
    {
      "metadata": {
        "id": "4_ifHp8FXG8h",
        "colab_type": "text"
      },
      "cell_type": "markdown",
      "source": [
        "### 5.1 Shared Hyperparameters"
      ]
    },
    {
      "metadata": {
        "id": "qpw8QV0VXryi",
        "colab_type": "code",
        "colab": {}
      },
      "cell_type": "code",
      "source": [
        "N = train_data.shape[0]\n",
        "idxlist = np.arange(N)\n",
        "\n",
        "# training batch size\n",
        "batch_size = 500\n",
        "batches_per_epoch = int(np.ceil(float(N) / batch_size))\n",
        "\n",
        "N_vad = vad_data_tr.shape[0]\n",
        "idxlist_vad = np.arange(N_vad)\n",
        "\n",
        "# validation batch size (since the entire validation set might not fit into GPU memory)\n",
        "batch_size_vad = 2000"
      ],
      "execution_count": 0,
      "outputs": []
    },
    {
      "metadata": {
        "id": "mhY6zZRvbAI1",
        "colab_type": "code",
        "colab": {}
      },
      "cell_type": "code",
      "source": [
        "ndcg_var = tf.Variable(0.0, name='ndcg_scalar')\n",
        "ndcg_dist_var = tf.placeholder(dtype=tf.float64, shape=None, name='ndcg_histogram')\n",
        "ndcg_summary = tf.summary.scalar('ndcg_at_k_validation', ndcg_var)\n",
        "ndcg_dist_summary = tf.summary.histogram('ndcg_at_k_hist_validation', ndcg_dist_var)\n",
        "\n",
        "rc_var = tf.Variable(0.0, name='rc_scalar')\n",
        "rc_dist_var = tf.placeholder(dtype=tf.float64, shape=None, name='rc_histogram')\n",
        "rc_summary = tf.summary.scalar('rc_at_k_validation', rc_var)\n",
        "rc_dist_summary = tf.summary.histogram('ir_at_k_hist_validation', rc_dist_var)\n",
        "\n",
        "merged_valid = tf.summary.merge([ndcg_summary, ndcg_dist_summary, rc_summary, rc_dist_summary])"
      ],
      "execution_count": 0,
      "outputs": []
    },
    {
      "metadata": {
        "id": "s_i-ZKAaWoMp",
        "colab_type": "text"
      },
      "cell_type": "markdown",
      "source": [
        "### 5.2 Predictive VAE Instance"
      ]
    },
    {
      "metadata": {
        "id": "yvpDdU0AaqE7",
        "colab_type": "text"
      },
      "cell_type": "markdown",
      "source": [
        "For the predictive VAE model, we set both the generative function $f_\\theta(\\cdot)$ and the inference model $g_\\phi(\\cdot)$ to be 3-layer multilayer perceptron (MLP) with symmetrical architecture. \n",
        "\n",
        "The generative function is a [200 -> 600 -> n_items] MLP, which means the inference function is a [n_items -> 600 -> 200] MLP. Thus the overall architecture for the Multi-VAE^{PR} is [n_items -> 600 -> 200 -> 600 -> n_items]."
      ]
    },
    {
      "metadata": {
        "id": "r1YK3rhsaxJO",
        "colab_type": "code",
        "colab": {}
      },
      "cell_type": "code",
      "source": [
        "# dimesnions of the decoder\n",
        "p_dims = [200, 600, n_items]\n",
        "\n",
        "n_epochs = 100  # the default n_epochs = 200\n",
        "\n",
        "# the total number of gradient updates for annealing\n",
        "total_anneal_steps = 200000\n",
        "\n",
        "# largest annealing parameter\n",
        "anneal_cap = 0.2"
      ],
      "execution_count": 0,
      "outputs": []
    },
    {
      "metadata": {
        "id": "485FXinBa3Ac",
        "colab_type": "code",
        "colab": {}
      },
      "cell_type": "code",
      "source": [
        "tf.reset_default_graph()\n",
        "vae = RegularizedVAE(p_dims, lam=0.0, random_seed=98765)\n",
        "saver, logits_var, loss_var, train_op_var, merged_var = vae.build_graph()"
      ],
      "execution_count": 0,
      "outputs": []
    },
    {
      "metadata": {
        "id": "m7skFSBsbUZL",
        "colab_type": "text"
      },
      "cell_type": "markdown",
      "source": [
        "Set up logging and checkpoint directory\n",
        "\n",
        "- Change all the logging directory and checkpoint directory to somewhere of your choice\n",
        "- Monitor training progress using tensorflow by: `tensorboard --logdir=$log_dir`v"
      ]
    },
    {
      "metadata": {
        "id": "eXdjMg84ddHi",
        "colab_type": "text"
      },
      "cell_type": "markdown",
      "source": [
        "### 5.3 Inferential VAE Instance"
      ]
    },
    {
      "metadata": {
        "id": "VPHmNKlgixhx",
        "colab_type": "text"
      },
      "cell_type": "markdown",
      "source": [
        "For the regularized VAE model, we set both the generative function $f_\\theta(\\cdot)$ and the inference model $g_\\phi(\\cdot)$ to be 3-layer multilayer perceptron (MLP) with symmetrical architecture. \n",
        "\n",
        "The generative function is a [200 -> 600 -> n_items] MLP, which means the inference function is a [n_items -> 600 -> 200] MLP. Thus the overall architecture for the Multi-VAE^{PR} is [n_items -> 600 -> 200 -> 600 -> n_items]."
      ]
    },
    {
      "metadata": {
        "id": "F0VkEfcWdccC",
        "colab_type": "code",
        "colab": {}
      },
      "cell_type": "code",
      "source": [
        "# dimesnions of the decoder\n",
        "p_dims = [100, 300, 300, n_items]\n",
        "q_dims = [n_items, 300, 300, 100]\n",
        "\n",
        "n_epochs = 100  # the default n_epochs = 200\n",
        "\n",
        "# the total number of gradient updates for annealing\n",
        "total_anneal_steps = 15000 \n",
        "\n",
        "# largest annealing parameter\n",
        "anneal_cap = 1."
      ],
      "execution_count": 0,
      "outputs": []
    },
    {
      "metadata": {
        "id": "o-DyuikHbeUN",
        "colab_type": "code",
        "colab": {}
      },
      "cell_type": "code",
      "source": [
        "tf.reset_default_graph()\n",
        "vae = Inferential_VAE(p_dims, lam=0.0, random_seed=98765)\n",
        "saver, logits_var, loss_var, train_op_var, merged_var = vae.build_graph()"
      ],
      "execution_count": 0,
      "outputs": []
    },
    {
      "metadata": {
        "id": "R2vNlmGOdnuP",
        "colab_type": "text"
      },
      "cell_type": "markdown",
      "source": [
        "Set up logging and checkpoint directory\n",
        "\n",
        "- Change all the logging directory and checkpoint directory to somewhere of your choice\n",
        "- Monitor training progress using tensorflow by: `tensorboard --logdir=$log_dir`v"
      ]
    },
    {
      "metadata": {
        "id": "6ft6Wcqmdv8w",
        "colab_type": "text"
      },
      "cell_type": "markdown",
      "source": [
        "### 5.4 Training and Validation Execution"
      ]
    },
    {
      "metadata": {
        "id": "fZvmxfOjeDpR",
        "colab_type": "text"
      },
      "cell_type": "markdown",
      "source": [
        "Below is the executor code. We design this executor to be compatible with both Predictive VAE and Inferential VAE"
      ]
    },
    {
      "metadata": {
        "id": "vogG1fHbdvXu",
        "colab_type": "code",
        "colab": {}
      },
      "cell_type": "code",
      "source": [
        "ndcgs_vad = []\n",
        "rc_vad = []\n",
        "\n",
        "with tf.Session() as sess:\n",
        "\n",
        "    init = tf.global_variables_initializer()\n",
        "    sess.run(init)\n",
        "\n",
        "    best_ndcg = -np.inf\n",
        "\n",
        "    update_count = 0.0\n",
        "    \n",
        "\n",
        "    for epoch in range(n_epochs):  \n",
        "        # real-time info print-out\n",
        "        print(\"{} epoches have been completed\".format(epoch))\n",
        "          \n",
        "        np.random.shuffle(idxlist)  # idxlist = range(N) where N = train_data.shape[0]\n",
        "        # train for one epoch\n",
        "        for bnum, st_idx in enumerate(range(0, N, batch_size)):  # batch_size=500\n",
        "            end_idx = min(st_idx + batch_size, N)\n",
        "#             X = train_data[idxlist[st_idx:end_idx]]\n",
        "            X,Y = train_data_tr[idxlist[st_idx:end_idx]],train_data[idxlist[st_idx:end_idx]] # Changed for train trick\n",
        "            \n",
        "            if sparse.isspmatrix(X):\n",
        "                X = X.toarray()\n",
        "            X = X.astype('float32')\n",
        "            \n",
        "            # Changed for train trick (Added)\n",
        "            if sparse.isspmatrix(Y):\n",
        "                Y = Y.toarray()\n",
        "            Y = Y.astype('float32')      \n",
        "            \n",
        "            if total_anneal_steps > 0:\n",
        "                anneal = min(anneal_cap, 3. * update_count / total_anneal_steps) # Changed anneal rates. Previous speed is 1.\n",
        "            else:\n",
        "                anneal = anneal_cap\n",
        "            \n",
        "            feed_dict = {vae.input_ph: X, \n",
        "                         vae.label_ph: Y, # Changed for train trick(Added)\n",
        "                         vae.keep_prob_ph: 0.5, \n",
        "                         vae.anneal_ph: anneal,\n",
        "                         vae.is_training_ph: 1}        \n",
        "            sess.run(train_op_var, feed_dict=feed_dict)\n",
        "            \n",
        "            # write the summary to the log\n",
        "            if bnum % 100 == 0:\n",
        "                summary_train = sess.run(merged_var, feed_dict=feed_dict)\n",
        "                summary_writer.add_summary(summary_train, \n",
        "                                           global_step=epoch * batches_per_epoch + bnum) \n",
        "            \n",
        "        '''\n",
        "        @Validation Process\n",
        "        '''\n",
        "        # compute validation NDCG\n",
        "        ndcg_dist = []\n",
        "        rc_rate_dist = []\n",
        "        \n",
        "        for bnum, st_idx in enumerate(range(0, N_vad, batch_size_vad)):  # N_vad=10000 | batch_size_vad = 2000\n",
        "            end_idx = min(st_idx + batch_size_vad, N_vad)\n",
        "            X = vad_data_tr[idxlist_vad[st_idx:end_idx]]\n",
        "\n",
        "            if sparse.isspmatrix(X):\n",
        "                X = X.toarray()\n",
        "            X = X.astype('float32')\n",
        "        \n",
        "            pred_val = sess.run(logits_var, feed_dict={vae.input_ph: X} )\n",
        "            # exclude examples from training and validation (if any)\n",
        "            pred_val[X.nonzero()] = -np.inf  # this will make the NDCG smaller\n",
        "\n",
        "            ndcg_dist.append(NDCG_binary_at_k_batch(pred_val, vad_data_te[idxlist_vad[st_idx:end_idx]], k=100))\n",
        "            rc_rate_dist.append(Recall_at_k_batch(pred_val, vad_data_te[idxlist_vad[st_idx:end_idx]], k=100))\n",
        "        \n",
        "        ndcg_dist = np.concatenate(ndcg_dist)\n",
        "        ndcg_ = ndcg_dist.mean()\n",
        "        ndcgs_vad.append(ndcg_)\n",
        "        \n",
        "        rc_dist =  np.concatenate(rc_rate_dist)\n",
        "        rc_ = rc_dist.mean()\n",
        "        rc_vad.append(rc_)\n",
        "        \n",
        "        merged_valid_val = sess.run(merged_valid, feed_dict={ndcg_var: ndcg_, ndcg_dist_var: ndcg_dist, \n",
        "                                                             rc_var: rc_, rc_dist_var: rc_dist})\n",
        "        summary_writer.add_summary(merged_valid_val, epoch)\n",
        "\n",
        "        # update the best model (if necessary) and save the best model to the chkpt_dir folder\n",
        "        if ndcg_ > best_ndcg:\n",
        "            saver.save(sess, '{}/model'.format(chkpt_dir))\n",
        "            best_ndcg = ndcg_"
      ],
      "execution_count": 0,
      "outputs": []
    },
    {
      "metadata": {
        "id": "RlLfCfxVSzBE",
        "colab_type": "text"
      },
      "cell_type": "markdown",
      "source": [
        "## 6. Prediction and Model Evaluation"
      ]
    },
    {
      "metadata": {
        "id": "rm7YCrNW2rYF",
        "colab_type": "text"
      },
      "cell_type": "markdown",
      "source": [
        "Now, since we have both a generative trained model (decoder)  $f_θ (·)$ and an inference model (encoder) $g_φ(·)$, we can use them to make a prediction. With a user's click history x, we rank all the items based on $f_θ (z)$, a un-normalized predicted multinomial probability, where Z is the mean of variational distribution $μ_φ (x)$. The predicted rank is given by sorting the unnormalized multinomial probability $f_θ (z)$.\n",
        "\n",
        "Let's reflect the two metrics we define earlier:\n",
        "\n",
        "__* Recall__\n",
        "\n",
        "  The Recall metrics compare the predicted rank of the hold-out items with their true rank for each user. \n",
        "\n",
        "  $R(u, w):= \\frac{\\sum_{r=1}^{R} I(w(r) \\in I_u)}{min(R, I_u)}$\n",
        "\n",
        "\n",
        "  R is the rank, standing for items ranked in first R. Recall metrics considers all the items ranked in first R equally important. $w(r)$ is the item at rank r. $I[·]$ is an indicator function and $I_u$ is the set of held-out items that user u clicked on. \n",
        "\n",
        "__* Normalized Truncated Discounted Cumulative Gain (NDCG)__\n",
        "\n",
        "NDCG is the DCG linearly normalized to [0, 1] after dividing by the best possible DCG@R, where all the held-out items are ranked at the top. DCG is shown as follows:\n",
        "\n",
        "$R(u,w) := \\sum_{r=1}^{R} \\frac{2^{I(w(r) \\in I_u)} - 1}{log(r+1)}$\n",
        "\n",
        "Different from Recall, NDCG metrics evaluates higher ranks more than lower ranks.\n",
        "\n",
        "\n"
      ]
    },
    {
      "metadata": {
        "id": "m8wm_wcaetWC",
        "colab_type": "text"
      },
      "cell_type": "markdown",
      "source": [
        "### 6.1 Performance Sumary \n",
        "\n",
        "#### 6.1.1 Predictive VAE\n",
        "\n",
        "We use the benchmark Weighted Matrix Factorization Model (WMF) [9] to compare the our result and that of Liang’s paper [1]. The evaluation metrics we used is Recall@20. That is Recall at rank = 20. In the paper, the Recall = 0.3608, while splitting data according to timestamp, our Recall = 0.1816. It is reasonable to obtain a lower Recall after splitting data according to timestamp because some of the easier predictions are eliminated, i.e. predicting Ironman I from rating record of Ironman II. \n",
        "\n",
        "The following graph shows the hyperparameter tuning results of the WMF. The hyperparameter space is \n",
        "alpha : {1, 2, 5, 10, 20, 30}, factors : {32, 64, 96, 128}, reg : {0.01, 0.02, 0.03, 0.04}. \n",
        "\n",
        "\n",
        "Alpha |  Factors | Regularization\n",
        "--- | --- | --- \n",
        "{1, 2, 5, 10, 20, 30} | {32, 64, 96, 128} | {0.01, 0.02, 0.03, 0.04}\n",
        "\n",
        "##### Paper WMF\n",
        "![alt text](https://github.com/jokerkeny/VAE/blob/master/fig/paper%20wmf.jpg?raw=true = 600*200)\n",
        "​\n",
        "##### Our WMF\n",
        "![alt text](https://github.com/jokerkeny/VAE/blob/master/fig/our%20wmf.jpg?raw=true = 600*200)\n",
        "\n",
        "In the graphs above, the x-axis is regularization, y-axis shows factors, and each stack represents a different alpha. We find the set of tuning parameters giving the best results in color purple, which is listed below. \n",
        "\n",
        " | The set of parameters| Results\n",
        "--- | --- | ---\n",
        "Paper |  alpha = 10, factor = 96, reg = 0.03 | 0.3608\n",
        "Ours | alpha = 5, factor = 64, reg = 0.02 | 0.1816\n",
        "\n",
        "Since our benchmark is substantially lower than that of the paper, it is not a surprise that our model produce a lower Recall and NDCG than the paper does, which is shown below: \n",
        "\n",
        "\n",
        " | Recall@20 | Recall@50 | NDCG\n",
        "--- | --- | ---\n",
        "Paper | 0.395 | 0.537 | 0.426\n",
        "Ours | 0.219 | 0.372 |0.2558\n",
        "\n",
        "Noticing that our result is much higher than that of the benchmark, this shows VAE is still a great model for recommendation system after our modifications on the model and data."
      ]
    },
    {
      "metadata": {
        "id": "fOL_d1_BhO3n",
        "colab_type": "text"
      },
      "cell_type": "markdown",
      "source": [
        "#### 6.1.2 Inferential VAE"
      ]
    },
    {
      "metadata": {
        "id": "BWPNCywai4HG",
        "colab_type": "text"
      },
      "cell_type": "markdown",
      "source": [
        "although we've tried different network structure, drop-out rate, regularization rate and so on. The inferential VAE model underperforms the predictive VAE model in almost every case, though the difference isn't that much."
      ]
    },
    {
      "metadata": {
        "id": "hqk1kUcYgDOJ",
        "colab_type": "text"
      },
      "cell_type": "markdown",
      "source": [
        "Recall@50 for Inferential VAE"
      ]
    },
    {
      "metadata": {
        "id": "KGcIw4P9gO1n",
        "colab_type": "text"
      },
      "cell_type": "markdown",
      "source": [
        "![alt text](https://github.com/jokerkeny/VAE/blob/master/fig/inferential_recall_100.png?raw=True =600x400)"
      ]
    },
    {
      "metadata": {
        "id": "QOEJQ0ZAfsBe",
        "colab_type": "text"
      },
      "cell_type": "markdown",
      "source": [
        "NDCG@50 for Inferential VAE"
      ]
    },
    {
      "metadata": {
        "id": "8ADcv8xZf2hO",
        "colab_type": "text"
      },
      "cell_type": "markdown",
      "source": [
        "![alt text](https://github.com/jokerkeny/VAE/blob/master/fig/inferential_ndcg_100.png?raw=True =600x400)"
      ]
    },
    {
      "metadata": {
        "id": "5ZFuDSLF8hik",
        "colab_type": "text"
      },
      "cell_type": "markdown",
      "source": [
        "As a quick summary, we reach the following conclusion:\n",
        "\n",
        "* The Netflix' s simple single-layer VAE model do outshine the classic state-of-art WMF in regards to two metrics, therefore it is a useful model for recommendation system\n",
        "\n",
        "* Our Predictive VAE model performs better than the Netflix' s model in real prediction task\n",
        "\n",
        "* The trade-off between generation and prediction make the extended VAE model a powerful tool for collaborative filtering."
      ]
    },
    {
      "metadata": {
        "id": "ornH5oUj8a1U",
        "colab_type": "text"
      },
      "cell_type": "markdown",
      "source": [
        "# PART II: Statistical Inference on VAE's Latent Variables"
      ]
    },
    {
      "metadata": {
        "id": "Dp6FP9jX7tjP",
        "colab_type": "text"
      },
      "cell_type": "markdown",
      "source": [
        "As a Latent Gaussian Model, VAE is commonly used in computer vision to perform dimension reduction or low dimensional inference. One famous example is to use VAE with 2 latent variables to learn the hand-writing digital numbers. In the experiment, we can successfully see the manifold plot of the numbers. Hence, it is also worth doing inference on the collaborative filtering problem. Even though our model is an extended VAE model, focusing more on prediction than pattern simulation.\n",
        "\n",
        "In this part, we try to do some inferences toward our VAE model. We want to know that under the trade-off between generation and prediction, what is the behaviors and performance of latent variables. Is there any change happened in the distributions of latent variables? Do our extend VAE still a good way for dimension reduction and unsupervised learning?\n"
      ]
    },
    {
      "metadata": {
        "id": "JbyZMn2xTDx-",
        "colab_type": "text"
      },
      "cell_type": "markdown",
      "source": [
        "![替代文字](http://bjlkeng.github.io/images/generated_digits.png =300x300)"
      ]
    },
    {
      "metadata": {
        "id": "H-rGLsGjE0oV",
        "colab_type": "code",
        "colab": {}
      },
      "cell_type": "code",
      "source": [
        "chkpt_dir = './chkpt/ml-20m/VAE_anneal{}K_cap{:1.1E}/{}'.format(\n",
        "    total_anneal_steps/1000, anneal_cap, arch_str)\n",
        "print(\"chkpt directory: %s\" % chkpt_dir)\n",
        "\n",
        "# Origin model\n",
        "p_dims = [200, 600, n_items]\n",
        "\n",
        "'''\n",
        "# Low dimensions model\n",
        "p_dims = [2, 200, 600, n_items]\n",
        "'''\n",
        "\n",
        "tf.reset_default_graph()\n",
        "vae = MultiVAE(p_dims, lam=0.0, random_seed=98765)\n",
        "\n",
        "saver, logits_var, loss_var, train_op_var, merged_var, sampled_z = vae.build_graph()"
      ],
      "execution_count": 0,
      "outputs": []
    },
    {
      "metadata": {
        "id": "RVYyv37sGgX_",
        "colab_type": "code",
        "colab": {}
      },
      "cell_type": "code",
      "source": [
        "z=[]\n",
        "\n",
        "with tf.Session() as sess:\n",
        "    #saver.restore(sess, './model')\n",
        "    saver.restore(sess, '{}/model'.format(chkpt_dir))\n",
        "    \n",
        "    for bnum, st_idx in enumerate(range(0, N, batch_size)):\n",
        "        end_idx = min(st_idx + batch_size, N)\n",
        "        X = train_data[idxlist[st_idx:end_idx]]\n",
        "            \n",
        "        if sparse.isspmatrix(X):\n",
        "            X = X.toarray()\n",
        "        X = X.astype('float32')           \n",
        "        feed_dict = {vae.input_ph: X, }        \n",
        "        train_z = sess.run(sampled_z, feed_dict={vae.input_ph: X})\n",
        "        z.append(train_z)\n",
        "z=pd.DataFrame(np.concatenate(z))"
      ],
      "execution_count": 0,
      "outputs": []
    },
    {
      "metadata": {
        "id": "vvuVbP7AHQCZ",
        "colab_type": "text"
      },
      "cell_type": "markdown",
      "source": [
        "### 7.1 Check Normality of Latent Variables"
      ]
    },
    {
      "metadata": {
        "id": "Wj5_022RHek-",
        "colab_type": "text"
      },
      "cell_type": "markdown",
      "source": [
        "One amazing idea for VAE is that, we can use some independent variables following standard normal distribution to simulate any distribution. Hence in the traditional VAE model, the empirical distribution of latent variables, marginalized by input X, should approximate standard normal distributions, the prior distributions of latent variables. After regularization on KL Divergence and a special training method, the empirical distribution of valent variables may be impacted by the trade-off. And actually, they are. \n",
        "\n",
        "We could see from the first plot, which is the empirical marginal distribution of a randomly chosen latent variable. It looks really like a Gaussian distribution. In fact, all empirical distributions of latent variables do not reject Kolmogorov-Smirnov test for normal distribution. It means that all latent variables may follow normal distribution. The mean parameters of variables approximate 0 and follow a normal distribution as well. However, the standard error(std) parameter displays strange performance. Most of std of latent variable falls in the interval (0, 0.2], while by setting the prior of z to be standard normal distribution, std should approximate 1. In our opinions, the variation of std parameter might indicates the trade-off between generation and prediction. By learning less pattern, including noise, latent variables might not be that discriminative to regenerate perfect matrix, but they learned enough information to make prediction. We think it is also a kind of trade-off between bias and variance, related to the overfitting problem.\n"
      ]
    },
    {
      "metadata": {
        "id": "hk4h9lGEHUQv",
        "colab_type": "code",
        "colab": {}
      },
      "cell_type": "code",
      "source": [
        "i=int(np.random.uniform(0,200,1)[0])\n",
        "print('Selected Latent Z: ',i)\n",
        "sns.distplot(z[i])\n",
        "plt.show()"
      ],
      "execution_count": 0,
      "outputs": []
    },
    {
      "metadata": {
        "id": "MtK8AsPuOb7e",
        "colab_type": "text"
      },
      "cell_type": "markdown",
      "source": [
        "![替代文字](data:image/png;base64,iVBORw0KGgoAAAANSUhEUgAAAeEAAAFYCAYAAABkj0SzAAAABHNCSVQICAgIfAhkiAAAAAlwSFlz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%0AAABJRU5ErkJggg==%0A)"
      ]
    },
    {
      "metadata": {
        "id": "u6qBTWrmHXJc",
        "colab_type": "code",
        "colab": {}
      },
      "cell_type": "code",
      "source": [
        "#Histogram for Std of latent variable\n",
        "sns.distplot(z.describe().iloc[2,:])\n",
        "plt.show()"
      ],
      "execution_count": 0,
      "outputs": []
    },
    {
      "metadata": {
        "id": "NVBQFnOtOd1a",
        "colab_type": "text"
      },
      "cell_type": "markdown",
      "source": [
        "![替代文字](data:image/png;base64,iVBORw0KGgoAAAANSUhEUgAAAdwAAAFYCAYAAAD5gk07AAAABHNCSVQICAgIfAhkiAAAAAlwSFlz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%0AAgQuAAAWIHABALDA/w+N6vuK+emMEAAAAABJRU5ErkJggg==%0A)"
      ]
    },
    {
      "metadata": {
        "id": "KaztwRpdHYuk",
        "colab_type": "code",
        "colab": {}
      },
      "cell_type": "code",
      "source": [
        "#Histogram for mean of latent variable\n",
        "sns.distplot(z.describe().iloc[1,:])\n",
        "plt.show()"
      ],
      "execution_count": 0,
      "outputs": []
    },
    {
      "metadata": {
        "id": "63dLEVcYOg7F",
        "colab_type": "text"
      },
      "cell_type": "markdown",
      "source": [
        "![替代文字](data:image/png;base64,iVBORw0KGgoAAAANSUhEUgAAAd8AAAFYCAYAAAAStfY4AAAABHNCSVQICAgIfAhkiAAAAAlwSFlz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%0Aogpj+BIREVUYw5eIiKjCGL5EREQV9v8BvLIApin56dkAAAAASUVORK5CYII=%0A)"
      ]
    },
    {
      "metadata": {
        "id": "gMUBZ_97HbhP",
        "colab_type": "code",
        "colab": {}
      },
      "cell_type": "code",
      "source": [
        "from statsmodels.stats.diagnostic import kstest_normal\n",
        "\n",
        "result=[]\n",
        "for i in z.columns:\n",
        "  k,p=kstest_normal(z[i])\n",
        "  result.append(p>=0.05)\n",
        "\n",
        "print('Number of latent variables passed KS Normal Test: ', np.sum(result))"
      ],
      "execution_count": 0,
      "outputs": []
    },
    {
      "metadata": {
        "id": "OJTCfrQAOkCJ",
        "colab_type": "text"
      },
      "cell_type": "markdown",
      "source": [
        "Number of latent variables passed KS Normal Test:  200"
      ]
    },
    {
      "metadata": {
        "id": "QVS4sjucOqF_",
        "colab_type": "text"
      },
      "cell_type": "markdown",
      "source": [
        "### 7.2 Low Dimensions Representation"
      ]
    },
    {
      "metadata": {
        "id": "mjwFid3Ms7oU",
        "colab_type": "text"
      },
      "cell_type": "markdown",
      "source": [
        "We compare our VAE model, as a dimension reduction tool, with PCA and t-SNE. PCA is a commonly used dimension reduction method. It tries to find orthogonal dimensions and to represent samples under new space. The key idea is to maximize the variance of samples in each dimension and eliminate the linear correlation between dimensions. Hence, PCA would have a good performance if the collinearity problem is serious in origin features. PCA could also be regarded as a new space following multiple Gaussian distribution. And it would result in poor performance if the Gaussian assumption is violated. Hence, we consider t-SNE method, which could reduce dimensions in a non-linear way. Since the original input is too large for calculation on our computers, we consider only reduce dimensions on the 200 latent variables in our training samples. "
      ]
    },
    {
      "metadata": {
        "id": "lyhKS5oiPKuB",
        "colab_type": "text"
      },
      "cell_type": "markdown",
      "source": [
        "#### 7.2.1 PCA for 200 Latent Variables"
      ]
    },
    {
      "metadata": {
        "id": "flr6FADus_aB",
        "colab_type": "text"
      },
      "cell_type": "markdown",
      "source": [
        "The plot displays the explained variance ration for each dimension in range [1, 50]. The first 2 components explain only 9.5% of total variance. And first 50 components explain 89.2% of total variance. Hence the reduction using PCA is not a good choice. In some extends, the result also indicate good performance of latent variables under VAE, since they are good features with little correlation."
      ]
    },
    {
      "metadata": {
        "id": "F9JNpkijPJ49",
        "colab_type": "code",
        "colab": {}
      },
      "cell_type": "code",
      "source": [
        "from sklearn.decomposition import PCA\n",
        "\n",
        "n=int(z.shape[0]*1)\n",
        "samples=z.sample(n)\n",
        "samples=samples*100\n",
        "\n",
        "pca = PCA(n_components=50)\n",
        "pca.fit(samples)\n",
        "print(pca.explained_variance_ratio_) \n",
        "print('total explained variance: ', np.sum(pca.explained_variance_ratio_))\n",
        "\n",
        "fig, ax = plt.subplots()\n",
        "ax.plot(pca.explained_variance_ratio_)\n",
        "\n",
        "\n",
        "ax.set(xlabel='Dimensions', ylabel='Explained Variance Ratio',\n",
        "       title='Performance of PCA on Latent Z')\n",
        "plt.show()"
      ],
      "execution_count": 0,
      "outputs": []
    },
    {
      "metadata": {
        "id": "9hh4o4u6PYkA",
        "colab_type": "text"
      },
      "cell_type": "markdown",
      "source": [
        "Total explained variance for first 20th variables:  0.8925"
      ]
    },
    {
      "metadata": {
        "id": "bGxOQn05PWZo",
        "colab_type": "text"
      },
      "cell_type": "markdown",
      "source": [
        "![替代文字](data:image/png;base64,iVBORw0KGgoAAAANSUhEUgAAAfsAAAFnCAYAAAChL+DqAAAABHNCSVQICAgIfAhkiAAAAAlwSFlz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%0AREQkwCnsRUREApzCXkREJMD9P2IQXjHGKiC5AAAAAElFTkSuQmCC%0A)"
      ]
    },
    {
      "metadata": {
        "id": "fTKLY0S2Pgez",
        "colab_type": "text"
      },
      "cell_type": "markdown",
      "source": [
        "#### 7.2.2 t-SNE for 200 Latent Variables"
      ]
    },
    {
      "metadata": {
        "id": "Ia7ymvo3tBcA",
        "colab_type": "text"
      },
      "cell_type": "markdown",
      "source": [
        "From the result of t-SNE, we can see that there are indeed some clusters, at least 2 clusters, in two dimensions. We multiply 100 to values in 200 latent variables in order to avoid floating point inaccuracy. There is a small group in the top of the plot, and a big group in the rest of the plot. By reducing dimensions via t-SNE, 200 latent variables are projected in a 2 dimensions space with distinctive clusters. "
      ]
    },
    {
      "metadata": {
        "id": "sOVf-FcmOpf1",
        "colab_type": "code",
        "colab": {}
      },
      "cell_type": "code",
      "source": [
        "from sklearn.manifold import TSNE\n",
        "import matplotlib.pyplot as plt"
      ],
      "execution_count": 0,
      "outputs": []
    },
    {
      "metadata": {
        "id": "iHAwKShAO4fu",
        "colab_type": "code",
        "colab": {}
      },
      "cell_type": "code",
      "source": [
        "#Sub sample using 2%\n",
        "n=int(z.shape[0]*0.02)\n",
        "samples=z.sample(n)\n",
        "samples.shape\n",
        "\n",
        "#Did t-SNE\n",
        "z_embedded=TSNE(n_components=2,perplexity=30.0).fit_transform(samples*100)\n",
        "z_embedded=pd.DataFrame(z_embedded)\n",
        "\n",
        "\n",
        "#Plot\n",
        "fig, ax = plt.subplots()\n",
        "ax.scatter(z_embedded[0],z_embedded[1],alpha=0.5)\n",
        "\n",
        "\n",
        "ax.set(xlabel='Dimension 1', ylabel='Dimension 2',\n",
        "       title='Result of t-SNE')\n",
        "\n",
        "plt.show()"
      ],
      "execution_count": 0,
      "outputs": []
    },
    {
      "metadata": {
        "id": "ScWgSyN8PGF_",
        "colab_type": "text"
      },
      "cell_type": "markdown",
      "source": [
        "![替代文字](data:image/png;base64,iVBORw0KGgoAAAANSUhEUgAAAfIAAAFnCAYAAABdOssgAAAABHNCSVQICAgIfAhkiAAAAAlwSFlz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%0AFDWMCuQKhUKhUNQw/x/pHeM/ECXe4gAAAABJRU5ErkJggg==%0A)"
      ]
    },
    {
      "metadata": {
        "id": "WcxLv7WxPofW",
        "colab_type": "text"
      },
      "cell_type": "markdown",
      "source": [
        "#### 7.2.3 VAE with 2 Latent Variables"
      ]
    },
    {
      "metadata": {
        "id": "C98ClpIXtE5q",
        "colab_type": "text"
      },
      "cell_type": "markdown",
      "source": [
        "t-SNE has a disadvantage that the locations of samples in new space is a random variable following some distribution. Thus, locations might variate every time. This problem makes the popular t-SNE be only a good visualization tool. We add a layer of 2 nodes in our original model with 200 latent variables, so as to reduce the dimension to 2. We multiply 100 to values in 200 latent variables in order to avoid floating point inaccuracy. The result seems good. There are clearly 3 clusters in the plot. Comparing with result from t-SNE, clusters in VAE are denser. It makes more sense to consider each crowd as a cluster and further investigate the detail of samples in every cluster. Besides, locations of samples under new space could be determinant if we use expectation to predict the location. They could also be random variables if we resample from distributions of latent variables. Thus, we highly recommend to use VAE to reduce dimension. It still has high level performance even we make a trade-off between generation and prediction. "
      ]
    },
    {
      "metadata": {
        "id": "rOMr7Do5P-E9",
        "colab_type": "code",
        "colab": {}
      },
      "cell_type": "code",
      "source": [
        "n=int(z.shape[0]*0.02)\n",
        "samples=z.sample(n)\n",
        "samples.shape\n",
        "\n",
        "\n",
        "fig, ax = plt.subplots()\n",
        "ax.scatter(samples[0]*100,samples[1]*100,alpha=0.5)\n",
        "\n",
        "ax.set(xlabel='Z1', ylabel='Z2',title='Plot of Users in 2 Latent Variable')\n",
        "plt.show()"
      ],
      "execution_count": 0,
      "outputs": []
    },
    {
      "metadata": {
        "id": "qNgnS1l7QAQL",
        "colab_type": "text"
      },
      "cell_type": "markdown",
      "source": [
        "![替代文字](data:image/png;base64,iVBORw0KGgoAAAANSUhEUgAAAfgAAAFnCAYAAABKGFvpAAAABHNCSVQICAgIfAhkiAAAAAlwSFlz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%0A)"
      ]
    },
    {
      "metadata": {
        "id": "F5KLm1oeG3WB",
        "colab_type": "text"
      },
      "cell_type": "markdown",
      "source": [
        "### 7.3 Clustering Using 200 Latent Variables "
      ]
    },
    {
      "metadata": {
        "id": "wyjA1H7r9Xji",
        "colab_type": "text"
      },
      "cell_type": "markdown",
      "source": [
        "We think it would be interesting to cluster using latent variables in VAE. Because it makes sense to group 2 people together if they all give high rates on Scientific Fiction movies, which in some aspects indicate their common interests. Since our VAE model with 200 latent variables perform the best on recommendation test, we use these 200 variables to do the K-means clustering, one of the commonly used method. We use all samples in the training data for learning. In order to converge fast, K-means ++ method are used to select initial center points. It also saves computational sources, otherwise we need to repeat the learning process with different initial points to avoid local minima. \n",
        "\n",
        "\n",
        "The choice of k, the number of clusters, is crucial and a challenge in the K-means method. In our experiment, the principal method to select k, Elbow method, is employed. The main idea of Elbow method is to select the last k value, under which there is a significant improvement for the performance of clustering. We use Inertia as the metric of performance of clustering. Hence, the last k with significant decreasing of Inertia should be selected. The result of clustering, however, is not very good. As could be seen, there is not an appropriate 'elbow' point in the range of [2, 20]. The model might suffer from the curse of dimensionality, since we have only about 100k samples but 200 dimensions. The violation of the assumption, that all clusters are normally distributed, could be a reason cause the poor performance of K-means clustering. We highly recommend to use VAE with fewer latent variables or other clustering method, like DBSCAN to explore the usefulness of VAE for clustering, even under the trade-off between generation and prediction.\n"
      ]
    },
    {
      "metadata": {
        "id": "n4hKdKDoG14P",
        "colab_type": "code",
        "colab": {}
      },
      "cell_type": "code",
      "source": [
        "from sklearn.cluster import KMeans\n",
        "\n",
        "minRes=2**31\n",
        "\n",
        "for i in range(2,20):\n",
        "  kmeans = KMeans(n_clusters=i, random_state=1).fit(z)\n",
        "  elbow.append(kmeans.inertia_)\n",
        "  if kmeans.inertia_<minRes:\n",
        "    minRes=kmeans.inertia_\n",
        "    label=kmeans.labels_.copy()"
      ],
      "execution_count": 0,
      "outputs": []
    },
    {
      "metadata": {
        "id": "vO4vKXtUHJ0D",
        "colab_type": "code",
        "colab": {}
      },
      "cell_type": "code",
      "source": [
        "fig, ax = plt.subplots()\n",
        "ax.plot(range(2,20),elbow)\n",
        "\n",
        "\n",
        "ax.set(xlabel='Numbers of Clusters', ylabel='Inertia',\n",
        "       title='Elbow Plot')\n",
        "\n",
        "plt.show()"
      ],
      "execution_count": 0,
      "outputs": []
    },
    {
      "metadata": {
        "id": "iQo2oXndH1_G",
        "colab_type": "text"
      },
      "cell_type": "markdown",
      "source": [
        "![替代文字](data:image/png;base64,iVBORw0KGgoAAAANSUhEUgAAAgkAAAFnCAYAAAAsdNpPAAAABHNCSVQICAgIfAhkiAAAAAlwSFlz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%0ABCGEEEJo+j9/SKkSuW+eAwAAAABJRU5ErkJggg==%0A)"
      ]
    },
    {
      "metadata": {
        "id": "gsyXagMHOD3J",
        "colab_type": "text"
      },
      "cell_type": "markdown",
      "source": [
        "## 8. Conclusion\n",
        "\n",
        "In this project, we strongly argue that the results of Liang's paper [1] using an inappropriate process to train and validate model. The result of repeat the experiment supports our statement. There is a more applicable way to deal with data. That is, arranging data following the timestamp. Although our result is lower than that of the paper according to the metrics Recall, our way to deal with data considering timestamp makes more sense in the real-world application. \n",
        "\n",
        "We further introduce our Predictive VAE, which make more regularization on the generative power of latent variable on input matrix. The novel training method hides last 20% samples’ value in time order as input, while computing the loss function, Entropy, uses entire data. This train trick delivers better performance than the original one. \n",
        "\n",
        "We also try to exploit the input matrix by build a deeper neural network regarding the famous ladder VAE. The performance of ladder VAE is not as good as our Predictive VAE. In some extends, it makes sense. Because ladder VAE is a way to more extensively learn the pattern of input, which improve the power of generation of VAE model. However, we have claimed that by reduce the power of generation and reinforce the ability of prediction, models would perform better.\n",
        "\n",
        "Moreover, our Predictive VAE is still a powerful tool for dimension reduction and visualization. It combine the advantage of PCA and t-SNE and could have a more distinctive projection into low dimensions.\n",
        "."
      ]
    },
    {
      "metadata": {
        "id": "G5kyd88_oIWL",
        "colab_type": "text"
      },
      "cell_type": "markdown",
      "source": [
        "## 9. Reference\n",
        "\n",
        "\n",
        "[1] Dawen Liang, Rahul G. Krishnan, Matthew D. Hoffman and Tony Jebara. 2018. Variational Autoencoders for Collaborative Filtering. arXiv preprint arXiv:1802.05814v1 (2018).\n",
        "\n",
        "[2] Diederik P. Kingma and Max Welling. 2013. Auto-encoding variational bayes. arXiv preprint arXiv:1312.6114 (2013).\n",
        "\n",
        "[3] Dawen Liang, Jaan Altosaar, Laurent Charlin, and David M. Blei. 2016. Factor- ization meets the item embedding: Regularizing matrix factorization with item co-occurrence. In Proceedings of the 10th ACM conference on recommender systems. 59–66.\n",
        "\n",
        "[4] David M. Blei, Alp Kucukelbir, and Jon D. McAuliffe. 2017. Variational Inference: A Review for Statisticians. J. Amer. Statist. Assoc. 112, 518 (2017), 859–877.\n",
        "\n",
        "[5] Michael I. Jordan, Zoubin Ghahramani, Tommi S. Jaakkola, and Lawrence K. Saul. 1999. An introduction to variational methods for graphical models. Machine learning 37, 2 (1999), 183–233.\n",
        "\n",
        "[6] Samuel R. Bowman, Luke Vilnis, Oriol Vinyals, Andrew M. Dai, Rafal Jozefowicz,\n",
        "and Samy Bengio. 2015. Generating sentences from a continuous space. arXiv\n",
        "preprint arXiv:1511.06349 (2015).\n",
        "\n",
        "[7] Irina Higgins, Loic Matthey, Arka Pal, Christopher Burgess, Xavier Glorot,\n",
        "Matthew Botvinick, Shakir Mohamed, and Alexander Lerchner. 2017. β-VAE: Learning Basic Visual Concepts with a Constrained Variational Framework. In 5th International Conference on Learning Representations.\n",
        "\n",
        "[8] Diederik Kingma and Jimmy Ba. 2014. Adam: A method for stochastic optimiza- tion. arXiv preprint arXiv:1412.6980 (2014).\n",
        "\n",
        "[9] Hu, Yifan, Yehuda Koren, and Chris Volinsky. \"Collaborative filtering for implicit feedback datasets.\" Data Mining, 2008. ICDM'08. Eighth IEEE International Conference on. Ieee, 2008. \n",
        "\n",
        "[10] Casper Kaae Sønderby. 2016. Ladder Variational Autoencoders. arXiv preprint arXiv:1312.6114 (2016)."
      ]
    },
    {
      "metadata": {
        "id": "N5vfPSSIHDXU",
        "colab_type": "code",
        "colab": {}
      },
      "cell_type": "code",
      "source": [
        ""
      ],
      "execution_count": 0,
      "outputs": []
    },
    {
      "metadata": {
        "id": "-qSUumVZ8f0t",
        "colab_type": "text"
      },
      "cell_type": "markdown",
      "source": [
        ""
      ]
    }
  ]
}